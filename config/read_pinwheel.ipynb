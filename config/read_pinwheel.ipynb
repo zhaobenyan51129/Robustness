{
 "cells": [
  {
   "cell_type": "code",
   "execution_count": 25,
   "metadata": {},
   "outputs": [],
   "source": [
    "import numpy as np\n",
    "import matplotlib.pyplot as plt\n",
    "\n",
    "fdr='/home/zhaobenyan/dataset/resource/'\n",
    "theme = '_'+'minimal-patch'"
   ]
  },
  {
   "cell_type": "code",
   "execution_count": 3,
   "metadata": {},
   "outputs": [
    {
     "name": "stdout",
     "output_type": "stream",
     "text": [
      "26\n",
      "[[ 7  5  9 ...  4 14  1]\n",
      " [ 9 10  7 ...  3  3 14]]\n"
     ]
    }
   ],
   "source": [
    "LGN_surfaceID_file = fdr + 'LGN_surfaceID' + theme + '.bin'\n",
    "\n",
    "with open(LGN_surfaceID_file, 'rb') as f:\n",
    "    # 读取网格大小\n",
    "    w = np.fromfile(f, dtype='u4', count=2)[0]\n",
    "\n",
    "    # 读取xyID数组\n",
    "    xyID = np.fromfile(f, dtype='i4', count=512*2).reshape((2,512))\n",
    "  \n",
    "print(w)\n",
    "print(xyID)"
   ]
  },
  {
   "cell_type": "code",
   "execution_count": 4,
   "metadata": {},
   "outputs": [
    {
     "name": "stdout",
     "output_type": "stream",
     "text": [
      "512\n",
      "0.010245659\n",
      "(2, 512)\n",
      "(512,)\n",
      "(2, 512)\n"
     ]
    }
   ],
   "source": [
    "LGN_vpos_file = fdr + 'LGN_vpos' + theme + '.bin'\n",
    "fp = 'f4'\n",
    "with open(LGN_vpos_file, 'rb') as f:\n",
    "    nparvo, zero = np.fromfile(f, dtype='u4', count=2)\n",
    "    ecc = np.fromfile(f, dtype=fp, count=1)[0]\n",
    "    cart = np.fromfile(f, dtype=fp, count=4)\n",
    "    parvo_cart = np.fromfile(f, dtype=fp, count=nparvo*2).reshape((2,nparvo))\n",
    "    RG_OnOff = np.fromfile(f, dtype='u4', count=nparvo)\n",
    "    parvo_polar = np.fromfile(f, dtype=fp, count=nparvo*2).reshape((2,nparvo))\n",
    "print(nparvo)\n",
    "print(ecc)\n",
    "print(parvo_cart.shape)\n",
    "print(RG_OnOff.shape)\n",
    "print(parvo_polar.shape)"
   ]
  },
  {
   "cell_type": "code",
   "execution_count": 15,
   "metadata": {},
   "outputs": [
    {
     "name": "stdout",
     "output_type": "stream",
     "text": [
      "5 1024\n",
      "[-0.25  0.5  -0.25  0.5 ]\n",
      "[ 0.09853211  0.09285008 -0.10565625  0.08201728 -0.00138375]\n",
      "[-0.01024566  0.02049132 -0.01024566  0.02049132]\n",
      "-0.010116123004897103 0.010116939228082157\n",
      "-0.010116703337760722 0.010116524200755503\n",
      "[ 4.03810554e-03  3.80524088e-03 -4.33007180e-03  3.36128446e-03\n",
      " -5.67097241e-05]\n",
      "/home/zhaobenyan/dataset/resource/V1_allpos_minimal-patch.bin\n",
      "[2]\n"
     ]
    }
   ],
   "source": [
    "pos_filename = fdr + 'V1_allpos'+theme+'.bin'\n",
    "with open(pos_filename, 'rb') as f:\n",
    "    # nblock=5和blockSize=1024\n",
    "    nblock, blockSize = np.fromfile(f, dtype='u4', count=2)\n",
    "    two=np.fromfile(f,dtype='u4',count=1)\n",
    "    span=np.fromfile(f,dtype='f8',count=4)\n",
    "    # fpos=(2,5120)维数组\n",
    "    fpos = np.fromfile(f, dtype='f8', count=nblock*blockSize*2).reshape(2,nblock*blockSize)\n",
    "    vspan=np.fromfile(f,dtype='f8',count=4)\n",
    "    # vpos=(2,5120)维数组\n",
    "    vpos = np.fromfile(f, dtype='f8',count=nblock*blockSize*2).reshape(2,nblock*blockSize)\n",
    "print(nblock, blockSize )\n",
    "print(span)\n",
    "print(fpos[0][0:5])\n",
    "print(vspan)\n",
    "print(vpos[0,:].min(), vpos[0,:].max())\n",
    "print(vpos[1,:].min(), vpos[1,:].max())\n",
    "print(vpos[0][0:5])\n",
    "print(pos_filename)\n",
    "print(two)"
   ]
  },
  {
   "cell_type": "code",
   "execution_count": 18,
   "metadata": {},
   "outputs": [
    {
     "name": "stdout",
     "output_type": "stream",
     "text": [
      "5120\n",
      "[[ 0.00445472  0.00420016  0.00445472 ...  0.00574047  0.00728511\n",
      "   0.0098595 ]\n",
      " [-0.43592958  0.43712103 -2.90447376 ... -1.0182357  -0.67558525\n",
      "  -0.68476921]]\n"
     ]
    }
   ],
   "source": [
    "vpos_filename = fdr + 'V1_vpos'+theme+'.bin'\n",
    "with open(vpos_filename, 'rb') as f:\n",
    "  n = np.fromfile(f,dtype='u4',count=1)[0]\n",
    "  V1_vpos=np.fromfile(f,dtype='f8',count=n*2).reshape(2,n)\n",
    "print(n)\n",
    "print(V1_vpos)"
   ]
  },
  {
   "cell_type": "code",
   "execution_count": 23,
   "metadata": {},
   "outputs": [
    {
     "name": "stdout",
     "output_type": "stream",
     "text": [
      "2\n",
      "(5120,)\n",
      "[0.93061966 0.06956998 0.5377386  ... 0.8379428  0.8924773  0.8910156 ]\n"
     ]
    }
   ],
   "source": [
    "feature_filename = fdr+'V1_feature'+theme+'.bin'\n",
    "with open(feature_filename, 'rb') as f:\n",
    "    nFeature=np.fromfile(f,dtype='u4',count=1)[0]\n",
    "    LR=np.fromfile(f,dtype='f4',count=5120)\n",
    "    OP=np.fromfile(f,dtype='f4',count=5120)\n",
    "print(nFeature)\n",
    "print(LR.shape)\n",
    "print(OP)\n"
   ]
  },
  {
   "cell_type": "code",
   "execution_count": 26,
   "metadata": {},
   "outputs": [
    {
     "name": "stdout",
     "output_type": "stream",
     "text": [
      "(2, 512)\n"
     ]
    },
    {
     "data": {
      "image/png": "[encoded data removed]",
      "text/plain": [
       "<Figure size 480x480 with 1 Axes>"
      ]
     },
     "metadata": {},
     "output_type": "display_data"
    }
   ],
   "source": [
    "fig = plt.figure(figsize = (4,4), dpi = 120)\n",
    "ax = fig.add_subplot(111)\n",
    "parvo_mc = ['or', 'om', 'og', 'oc']\n",
    "for i in range(4):\n",
    "    pick = RG_OnOff == i\n",
    "    ax.plot(parvo_cart[0,pick], parvo_cart[1,pick], parvo_mc[i], ms = 1)\n",
    "ax.plot(vpos[0,:], vpos[1,:], ',k', alpha = 0.1)\n",
    "ax.set_aspect('equal')\n",
    "print(parvo_cart.shape)"
   ]
  },
  {
   "cell_type": "code",
   "execution_count": 28,
   "metadata": {},
   "outputs": [
    {
     "name": "stdout",
     "output_type": "stream",
     "text": [
      "[[ 7  5  9 ...  4 14  1]\n",
      " [ 9 10  7 ...  3  3 14]]\n",
      "[[-2.5687826  -2.8249316  -2.1274676  ... -2.3172112  -1.5583992\n",
      "   3.0470252 ]\n",
      " [ 0.01871046  0.02290322  0.01971566 ...  0.03352072  0.02714696\n",
      "   0.03398945]]\n"
     ]
    }
   ],
   "source": [
    "print(xyID)"
   ]
  }
 ],
 "metadata": {
  "kernelspec": {
   "display_name": "neuro",
   "language": "python",
   "name": "python3"
  },
  "language_info": {
   "codemirror_mode": {
    "name": "ipython",
    "version": 3
   },
   "file_extension": ".py",
   "mimetype": "text/x-python",
   "name": "python",
   "nbconvert_exporter": "python",
   "pygments_lexer": "ipython3",
   "version": "3.10.4"
  },
  "orig_nbformat": 4
 },
 "nbformat": 4,
 "nbformat_minor": 2
}
