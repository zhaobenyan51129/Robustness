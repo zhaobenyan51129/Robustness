{
 "cells": [
  {
   "cell_type": "code",
   "execution_count": 1,
   "id": "ea32f64b-cbfc-47ec-b353-a1e5d5550a04",
   "metadata": {},
   "outputs": [],
   "source": [
    "import numpy as np\n",
    "\n",
    "with open('./benchmark_static_32pixel.bin') as f:\n",
    "    sampleSize = np.fromfile(f,'u4',1)[0]\n",
    "    sampleID = np.fromfile(f,'u4',sampleSize)\n",
    "    sample_nLGN_V1 = np.fromfile(f,'u4',sampleSize)        \n",
    "    max_fr = np.fromfile(f,'f4',sampleSize)        \n",
    "    max_input = np.fromfile(f,'f4',sampleSize)        \n",
    "    max_ori = np.fromfile(f,'f4',sampleSize)        \n",
    "    max_sf = np.fromfile(f,'f4',sampleSize)        \n",
    "    gOSI = np.fromfile(f,'f4',sampleSize)  # ori tc 的指标      \n"
   ]
  },
  {
   "cell_type": "code",
   "execution_count": null,
   "id": "b10244e0-9e0d-4345-8bd2-14fa46ed2651",
   "metadata": {},
   "outputs": [],
   "source": []
  }
 ],
 "metadata": {
  "kernelspec": {
   "display_name": "Python 3 (ipykernel)",
   "language": "python",
   "name": "python3"
  },
  "language_info": {
   "codemirror_mode": {
    "name": "ipython",
    "version": 3
   },
   "file_extension": ".py",
   "mimetype": "text/x-python",
   "name": "python",
   "nbconvert_exporter": "python",
   "pygments_lexer": "ipython3",
   "version": "3.10.6"
  }
 },
 "nbformat": 4,
 "nbformat_minor": 5
}
