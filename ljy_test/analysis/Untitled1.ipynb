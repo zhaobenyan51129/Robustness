{
 "cells": [
  {
   "cell_type": "code",
   "execution_count": 2,
   "id": "6b25fb53-38ce-4fce-80f1-56e73bccc360",
   "metadata": {},
   "outputs": [],
   "source": [
    "import numpy as np\n",
    "import PIL.Image as Image\n",
    "import os\n",
    "import matplotlib.pyplot as plt\n",
    "import matplotlib as mpl\n",
    "from readPatchOutput import *\n",
    "\n",
    "\n",
    "repeat = 1\n",
    "n_pic = 30\n",
    "nV1 = 1024\n",
    "nblock = 5\n",
    "nE = 768\n",
    "pixel = '16'\n",
    "Epick = []\n",
    "Ipick = []\n",
    "for i in range(nblock):\n",
    "    for j in range(nV1):\n",
    "        if j <nE:\n",
    "            Epick.append(i*nV1+j)\n",
    "        else:\n",
    "            Ipick.append(i*nV1+j)\n",
    "res_fdr = '/root/autodl-tmp/ljy/resource_repeat/'\n",
    "setup_fdr = '/root/autodl-tmp/ljy/resource_drifting_32pixel/'\n",
    "data_fdr = '/root/autodl-tmp/ljy/data_drifting_32pixel/'\n",
    "output_suffix = 'drifting_32pixel_new'\n",
    "\n",
    "cfg = []\n",
    "fr = []\n",
    "F0_input = []\n",
    "F1_input = []\n",
    "\n",
    "\n",
    "for k in range(1,n_pic+1):\n",
    "    #读取参数文件\n",
    "    with open(res_fdr+f'drifting_color_{k}_cfg.bin') as f:\n",
    "        sf = np.fromfile(f,'f4',1)[0]\n",
    "        ori = np.fromfile(f,'f4',1)[0]\n",
    "        phase = np.fromfile(f,'f4',1)[0]\n",
    "        c = np.fromfile(f,'f4',1)[0]\n",
    "    cfg.append([sf,ori,phase,c])"
   ]
  },
  {
   "cell_type": "code",
   "execution_count": 4,
   "id": "2c0ef435-b67d-429d-b309-938c3e115779",
   "metadata": {},
   "outputs": [
    {
     "data": {
      "text/plain": [
       "[[24.0, 0.0, 0.0, 0.1],\n",
       " [24.0, 30.0, 0.0, 0.1],\n",
       " [24.0, 60.0, 0.0, 0.1],\n",
       " [24.0, 90.0, 0.0, 0.1],\n",
       " [24.0, 120.0, 0.0, 0.1],\n",
       " [24.0, 150.0, 0.0, 0.1],\n",
       " [24.0, 0.0, 0.0, 0.2],\n",
       " [24.0, 30.0, 0.0, 0.2],\n",
       " [24.0, 60.0, 0.0, 0.2],\n",
       " [24.0, 90.0, 0.0, 0.2],\n",
       " [24.0, 120.0, 0.0, 0.2],\n",
       " [24.0, 150.0, 0.0, 0.2],\n",
       " [24.0, 0.0, 0.0, 0.3],\n",
       " [24.0, 30.0, 0.0, 0.3],\n",
       " [24.0, 60.0, 0.0, 0.3],\n",
       " [24.0, 90.0, 0.0, 0.3],\n",
       " [24.0, 120.0, 0.0, 0.3],\n",
       " [24.0, 150.0, 0.0, 0.3],\n",
       " [24.0, 0.0, 0.0, 0.4],\n",
       " [24.0, 30.0, 0.0, 0.4],\n",
       " [24.0, 60.0, 0.0, 0.4],\n",
       " [24.0, 90.0, 0.0, 0.4],\n",
       " [24.0, 120.0, 0.0, 0.4],\n",
       " [24.0, 150.0, 0.0, 0.4],\n",
       " [24.0, 0.0, 0.0, 0.5],\n",
       " [24.0, 30.0, 0.0, 0.5],\n",
       " [24.0, 60.0, 0.0, 0.5],\n",
       " [24.0, 90.0, 0.0, 0.5],\n",
       " [24.0, 120.0, 0.0, 0.5],\n",
       " [24.0, 150.0, 0.0, 0.5]]"
      ]
     },
     "execution_count": 4,
     "metadata": {},
     "output_type": "execute_result"
    }
   ],
   "source": [
    "cfg"
   ]
  },
  {
   "cell_type": "code",
   "execution_count": null,
   "id": "51c93301-c4a1-4111-b0dd-b27d27cf7534",
   "metadata": {},
   "outputs": [],
   "source": []
  }
 ],
 "metadata": {
  "kernelspec": {
   "display_name": "Python 3 (ipykernel)",
   "language": "python",
   "name": "python3"
  },
  "language_info": {
   "codemirror_mode": {
    "name": "ipython",
    "version": 3
   },
   "file_extension": ".py",
   "mimetype": "text/x-python",
   "name": "python",
   "nbconvert_exporter": "python",
   "pygments_lexer": "ipython3",
   "version": "3.10.6"
  }
 },
 "nbformat": 4,
 "nbformat_minor": 5
}
