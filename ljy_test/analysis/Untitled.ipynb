{
 "cells": [
  {
   "cell_type": "code",
   "execution_count": 11,
   "id": "720a1a51-7962-4b81-805f-97f1dd822ce4",
   "metadata": {},
   "outputs": [],
   "source": [
    "class Solution:\n",
    "    def intervalIntersection(self, firstList, secondList) :\n",
    "        ans = []\n",
    "        firstList.sort()\n",
    "        secondList.sort()\n",
    "        # print(firstList,secondList)\n",
    "        n, m = len(firstList), len(secondList)\n",
    "        i ,j = 0, 0\n",
    "        k = 1\n",
    "        while i < n and j < m:\n",
    "            print(firstList[i],secondList[j])\n",
    "            if (firstList[i][0]<=secondList[j][0] and secondList[j][0]<=firstList[i][1]) or (secondList[j][0]<=firstList[i][0] and firstList[i][0]<=secondList[j][1]):\n",
    "                ans.append([max(firstList[i][0],secondList[j][0]),min(firstList[i][1],secondList[j][1])])\n",
    "                if secondList[j][1] > firstList[i][1]: i += 1\n",
    "                else: j += 1\n",
    "                print(0)\n",
    "            elif firstList[i][0] > secondList[j][1]:\n",
    "                j += 1\n",
    "                print(1)\n",
    "            elif firstList[i][1] > secondList[j][0]:\n",
    "                i += 1\n",
    "                print(2)\n",
    "            print(i,j)\n",
    "            k+=1\n",
    "            if k==10:\n",
    "                break\n",
    "        return ans"
   ]
  },
  {
   "cell_type": "code",
   "execution_count": 12,
   "id": "f59f1173-96ac-4ff6-a629-35e78a57e5f4",
   "metadata": {},
   "outputs": [],
   "source": [
    "a = Solution()"
   ]
  },
  {
   "cell_type": "code",
   "execution_count": 13,
   "id": "be89ff49-513f-429c-94bd-010225b52b1c",
   "metadata": {},
   "outputs": [
    {
     "name": "stdout",
     "output_type": "stream",
     "text": [
      "[4, 11] [1, 2]\n",
      "1\n",
      "0 1\n",
      "[4, 11] [8, 11]\n",
      "0\n",
      "0 2\n",
      "[4, 11] [12, 13]\n",
      "0 2\n",
      "[4, 11] [12, 13]\n",
      "0 2\n",
      "[4, 11] [12, 13]\n",
      "0 2\n",
      "[4, 11] [12, 13]\n",
      "0 2\n",
      "[4, 11] [12, 13]\n",
      "0 2\n",
      "[4, 11] [12, 13]\n",
      "0 2\n",
      "[4, 11] [12, 13]\n",
      "0 2\n"
     ]
    },
    {
     "data": {
      "text/plain": [
       "[[8, 11]]"
      ]
     },
     "execution_count": 13,
     "metadata": {},
     "output_type": "execute_result"
    }
   ],
   "source": [
    "a.intervalIntersection([[4,11]],[[1,2],[8,11],[12,13],[14,15],[17,19]])"
   ]
  },
  {
   "cell_type": "code",
   "execution_count": null,
   "id": "c3fe15f5-835c-4f8a-aee5-0184f4466197",
   "metadata": {},
   "outputs": [],
   "source": []
  }
 ],
 "metadata": {
  "kernelspec": {
   "display_name": "general",
   "language": "python",
   "name": "general"
  },
  "language_info": {
   "codemirror_mode": {
    "name": "ipython",
    "version": 3
   },
   "file_extension": ".py",
   "mimetype": "text/x-python",
   "name": "python",
   "nbconvert_exporter": "python",
   "pygments_lexer": "ipython3",
   "version": "3.10.6"
  }
 },
 "nbformat": 4,
 "nbformat_minor": 5
}
