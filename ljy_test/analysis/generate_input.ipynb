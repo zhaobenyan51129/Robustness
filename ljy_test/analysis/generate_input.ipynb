{
 "cells": [
  {
   "cell_type": "code",
   "execution_count": 1,
   "id": "fa249d86-a141-421c-91b4-85aebff7166c",
   "metadata": {},
   "outputs": [],
   "source": [
    "import numpy as np\n",
    "import PIL.Image as Image\n",
    "import os\n",
    "import matplotlib.pyplot as plt\n",
    "import matplotlib as mpl\n",
    "from readPatchOutput import *\n",
    "\n",
    "\n",
    "repeat = 1\n",
    "n_pic = 2160\n",
    "nV1 = 1024\n",
    "nblock = 5\n",
    "nE = 768\n",
    "pixel = '16'\n",
    "Epick = []\n",
    "Ipick = []\n",
    "for i in range(nblock):\n",
    "    for j in range(nV1):\n",
    "        if j <nE:\n",
    "            Epick.append(i*nV1+j)\n",
    "        else:\n",
    "            Ipick.append(i*nV1+j)"
   ]
  },
  {
   "cell_type": "code",
   "execution_count": 2,
   "id": "86cd7024-0e93-4f38-9f63-8bcb1c0a60d5",
   "metadata": {},
   "outputs": [],
   "source": [
    "output_suffix0 = 'static_32pixel_1'\n",
    "res_suffix = 'minimal-patch'\n",
    "conLGN_suffix = 'test_lgn' \n",
    "conV1_suffix = 'test_v1'\n",
    "res_suffix = \"_\" + res_suffix\n",
    "conLGN_suffix = \"_\" + conLGN_suffix\n",
    "conV1_suffix = \"_\" + conV1_suffix\n",
    "output_suffix = output_suffix0\n",
    "_output_suffix = \"_\" + output_suffix\n",
    "res_fdr = '/root/autodl-tmp/ljy/resource_static_32pixel/'\n",
    "setup_fdr = '/root/autodl-tmp/ljy/resource_static_32pixel/'\n",
    "data_fdr = '/root/autodl-tmp/ljy/data_static_32pixel/'\n",
    "\n",
    "LGN_V1_sFn = setup_fdr + \"LGN_V1_sList\" + conLGN_suffix + \".bin\"\n",
    "LGN_V1_idFn = setup_fdr + \"LGN_V1_idList\" + conLGN_suffix + \".bin\"\n",
    "LGN_spFn = data_fdr + \"LGN_sp\" + _output_suffix\n",
    "parameterFn = data_fdr + \"patchV1_cfg\" +_output_suffix + \".bin\"\n",
    "\n",
    "# prec, sizeofPrec, vL, vE, vI, vR, vThres, gL, vT, typeAcc, nE, nI, sRatioLGN, sRatioV1, frRatioLGN, convolRatio, nType, nTypeE, nTypeI, frameRate, inputFn, _virtual_LGN, tonicDep, noisyDep = read_cfg(parameterFn)\n",
    "LGN_V1_s = readLGN_V1_s0(LGN_V1_sFn)\n",
    "LGN_V1_ID, nLGN_V1 = readLGN_V1_ID(LGN_V1_idFn)\n",
    "# LGN_spScatter = readLGN_sp(LGN_spFn + \".bin\", prec = prec)\n",
    "LGN_V1_idFn = setup_fdr + \"LGN_V1_idList\" + conLGN_suffix + \".bin\"\n",
    "LGN_V1_ID, nLGN_V1 = readLGN_V1_ID(LGN_V1_idFn) # size为5120\n",
    "nLGN_V1_E = nLGN_V1[Epick]\n",
    "output_suffix = 'static_32pixel'"
   ]
  },
  {
   "cell_type": "code",
   "execution_count": 3,
   "id": "0c34da11-6a45-4d02-b223-a9f171929f61",
   "metadata": {},
   "outputs": [],
   "source": [
    "def get_FreqComp(data, ifreq):\n",
    "    if ifreq == 0:\n",
    "        raise Exception('just use mean for zero comp')\n",
    "    ndata = len(data)\n",
    "    Fcomp = np.sum(data * np.exp(-2*np.pi*1j*ifreq*np.arange(ndata)/ndata))/ndata\n",
    "    return np.array([np.abs(Fcomp)*2, np.angle(Fcomp, deg = True)])"
   ]
  },
  {
   "cell_type": "code",
   "execution_count": 9,
   "id": "06091b11-1de6-4375-89e7-97fe90b2be1e",
   "metadata": {},
   "outputs": [],
   "source": [
    "def generate_file(filename,filename2):\n",
    "    \n",
    "    with open(filename) as f:\n",
    "        sampleSize = np.fromfile(f, 'u4', 1)[0] #一共5120\n",
    "        sample_t0, sample_t1 = np.fromfile(f, 'f4', 2)#t0是开始时间，t1是结束时间，我一共跑了1s\n",
    "        nt = np.fromfile(f, 'u4', 1)[0]\n",
    "        nLGN = np.fromfile(f, 'u4', 1)[0]\n",
    "        LGN_spike_time = np.fromfile(f, 'u4', nLGN*nt)\n",
    "        sampleID = np.fromfile(f, 'u4', sampleSize)#id排序是顺序的\n",
    "        sample_spikeCount = np.fromfile(f, 'u4', sampleSize)\n",
    "    LGN_spike_time = LGN_spike_time.reshape((nt,nLGN)).T\n",
    "    \n",
    "    V1_input_pre = np.zeros((sampleSize,nt))\n",
    "    for i in range(sampleSize):\n",
    "        tmp_id = sampleID[i]\n",
    "        nLGN_ = LGN_V1_ID[tmp_id].size\n",
    "        for j in range(nLGN_):\n",
    "            V1_input_pre[i] += LGN_spike_time[LGN_V1_ID[tmp_id][j]]*LGN_V1_s[tmp_id][j]\n",
    "            \n",
    "    TF = 8.0\n",
    "    tTF = 1000/TF\n",
    "    dt = (sample_t1-sample_t0)/nt\n",
    "    cycle = int(tTF/dt)\n",
    "    F0_ls = []\n",
    "    F1_ls = []\n",
    "    for tsp in V1_input_pre:\n",
    "        F0 = np.mean(tsp)\n",
    "        tsp = np.mean(tsp.reshape((cycle,-1)),axis=1)\n",
    "        tsp = np.mean(tsp.reshape((-1,25)),axis=0)\n",
    "        F1 = get_FreqComp(tsp, 1)[0]\n",
    "        F0_ls.append(F0)\n",
    "        F1_ls.append(F1)\n",
    "    F0_ls = np.array(F0_ls).astype('f4')\n",
    "    F1_ls = np.array(F1_ls).astype('f4')\n",
    "    \n",
    "    with open(filename2,'wb') as f:\n",
    "        np.array([sampleSize]).astype('u4').tofile(f)\n",
    "        np.array([sample_t0, sample_t1]).astype('f4').tofile(f)\n",
    "        sampleID.astype('u4').tofile(f)\n",
    "        sample_spikeCount.astype('u4').tofile(f)\n",
    "        F0_ls.astype('f4').tofile(f)\n",
    "        F1_ls.astype('f4').tofile(f)\n",
    "    "
   ]
  },
  {
   "cell_type": "code",
   "execution_count": 10,
   "id": "081e4ab3-4341-424b-b151-0831236bf2de",
   "metadata": {},
   "outputs": [],
   "source": [
    "for k in range(1030,n_pic+1):\n",
    "    filename1 = data_fdr + 'sample_spikeCount_' + output_suffix + '_' + str(k) + '.bin'\n",
    "    filename2 = data_fdr + 'sample_OutAndInputCount_' + output_suffix + '_' + str(k) + '.bin'    \n",
    "    generate_file(filename1,filename2)"
   ]
  },
  {
   "cell_type": "code",
   "execution_count": 40,
   "id": "9a0d91be-5f53-44df-a154-078aa87e1d74",
   "metadata": {},
   "outputs": [],
   "source": [
    "with open('/root/autodl-tmp/ljy/data_static_32pixel/sample_OutAndInputCount_static_32pixel_24.bin') as f:\n",
    "    sampleSize = np.fromfile(f,'u4',1)[0]\n",
    "    sample_t0, sample_t1 = np.fromfile(f, 'f4', 2)\n",
    "    sample_spikeCount = np.fromfile(f,'u4',sampleSize)\n",
    "    F0_ls = np.fromfile(f,'f4',sampleSize)\n",
    "    F1_ls = np.fromfile(f,'f4',sampleSize)    "
   ]
  },
  {
   "cell_type": "code",
   "execution_count": 8,
   "id": "b774e2ff-61a1-4cfe-a423-86138698df28",
   "metadata": {},
   "outputs": [
    {
     "name": "stdout",
     "output_type": "stream",
     "text": [
      "[   0    1    2 ... 4861 4862 4863]\n"
     ]
    }
   ],
   "source": [
    "filename = data_fdr + 'sample_spikeCount_' + output_suffix + '_' + str(k) + '.bin'\n",
    "with open(filename) as f:\n",
    "    sampleSize = np.fromfile(f, 'u4', 1)[0] #一共5120\n",
    "    sample_t0, sample_t1 = np.fromfile(f, 'f4', 2)#t0是开始时间，t1是结束时间，我一共跑了1s\n",
    "    nt = np.fromfile(f, 'u4', 1)[0]\n",
    "    nLGN = np.fromfile(f, 'u4', 1)[0]\n",
    "    LGN_spike_time = np.fromfile(f, 'u4', nLGN*nt)\n",
    "    sampleID = np.fromfile(f, 'u4', sampleSize)#id排序是顺序的\n",
    "    sample_spikeCount = np.fromfile(f, 'u4', sampleSize)\n",
    "LGN_spike_time = LGN_spike_time.reshape((nt,nLGN)).T\n",
    "print(sampleID)"
   ]
  },
  {
   "cell_type": "code",
   "execution_count": 13,
   "id": "4df228cb-787a-4b82-9870-a732dc6b30a4",
   "metadata": {},
   "outputs": [],
   "source": [
    "def generate_input(LGN_spike_time,sampleSize,nt,sampleID):\n",
    "    with open(data_fdr + 'sample_spikeCount_' +  output_suffix0+'_1000' + '.bin') as f:\n",
    "        sampleSize = np.fromfile(f, 'u4', 1)[0] #一共5120\n",
    "        sample_t0, sample_t1 = np.fromfile(f, 'f4', 2)#t0是开始时间，t1是结束时间，我一共跑了1s\n",
    "        nt = np.fromfile(f, 'u4', 1)[0]\n",
    "        nLGN = np.fromfile(f, 'u4', 1)[0]\n",
    "        LGN_spike_time = np.fromfile(f, 'u4', nLGN*nt)\n",
    "        sampleID = np.fromfile(f, 'u4', sampleSize)#id排序是顺序的\n",
    "        sample_spikeCount = np.fromfile(f, 'u4', sampleSize)\n",
    "    LGN_spike_time = LGN_spike_time.reshape((nt,nLGN)).T\n",
    "    V1_input_pre = np.zeros((sampleSize,nt))\n",
    "    for i in range(sampleSize):\n",
    "        tmp_id = sampleID[i]\n",
    "        nLGN_ = LGN_V1_ID[tmp_id].size\n",
    "        for j in range(nLGN_):\n",
    "            V1_input_pre[i] += LGN_spike_time[LGN_V1_ID[tmp_id][j]]*LGN_V1_s[tmp_id][j]\n",
    "    TF = 8.0\n",
    "    tTF = 1000/TF\n",
    "    dt = (sample_t1-sample_t0)/nt\n",
    "    cycle = int(tTF/dt)\n",
    "    F0_ls = []\n",
    "    F1_ls = []\n",
    "    for tsp in V1_input_pre:\n",
    "        F0 = np.mean(tsp)\n",
    "        tsp = np.mean(tsp.reshape((cycle,-1)),axis=1)\n",
    "        tsp = np.mean(tsp.reshape((-1,25)),axis=0)\n",
    "        F1 = get_FreqComp(tsp, 1)[0]\n",
    "        F0_ls.append(F0)\n",
    "        F1_ls.append(F1)\n",
    "    return V1_input_pre"
   ]
  },
  {
   "cell_type": "code",
   "execution_count": 15,
   "id": "b11b57a0-054d-40bd-8337-68bfb598c332",
   "metadata": {},
   "outputs": [],
   "source": [
    "V1_input_pre = generate_input(LGN_spike_time,sampleSize,nt,sampleID)"
   ]
  },
  {
   "cell_type": "code",
   "execution_count": 16,
   "id": "8a22584e-8cd1-4fd1-85fe-09d8e2a676ff",
   "metadata": {},
   "outputs": [
    {
     "data": {
      "text/plain": [
       "(3840, 40000)"
      ]
     },
     "execution_count": 16,
     "metadata": {},
     "output_type": "execute_result"
    }
   ],
   "source": [
    "V1_input_pre.shape"
   ]
  },
  {
   "cell_type": "code",
   "execution_count": 26,
   "id": "f13e8829-ae94-4b4d-9506-f7569d6dd2a1",
   "metadata": {},
   "outputs": [],
   "source": []
  },
  {
   "cell_type": "code",
   "execution_count": 31,
   "id": "754a2c77-31e2-45d2-8a41-842b4506fe54",
   "metadata": {},
   "outputs": [
    {
     "data": {
      "text/plain": [
       "array([0.06216467, 0.07299539, 0.07621426, 0.06337274, 0.06370334,\n",
       "       0.06723934, 0.07181697, 0.06943953, 0.07380644, 0.05934473,\n",
       "       0.0715493 , 0.06903837, 0.07055607, 0.07046486, 0.06643388,\n",
       "       0.06612927, 0.07279353, 0.06789947, 0.07030799, 0.06708168,\n",
       "       0.07546144, 0.07470128, 0.07445811, 0.06449145, 0.07561348])"
      ]
     },
     "execution_count": 31,
     "metadata": {},
     "output_type": "execute_result"
    }
   ],
   "source": [
    "tsp"
   ]
  },
  {
   "cell_type": "code",
   "execution_count": 30,
   "id": "c62d8269-4213-4144-81c1-16197464a551",
   "metadata": {},
   "outputs": [
    {
     "data": {
      "text/plain": [
       "[<matplotlib.lines.Line2D at 0x7f6210e65f60>]"
      ]
     },
     "execution_count": 30,
     "metadata": {},
     "output_type": "execute_result"
    },
    {
     "data": {
      "image/png": "[encoded data removed]",
      "text/plain": [
       "<Figure size 640x480 with 1 Axes>"
      ]
     },
     "metadata": {},
     "output_type": "display_data"
    }
   ],
   "source": [
    "plt.plot(F0_ls,sample_spikeCount,'*')"
   ]
  },
  {
   "cell_type": "code",
   "execution_count": null,
   "id": "4afaabcf-6b5d-4259-9c48-d15fb8dc9e32",
   "metadata": {},
   "outputs": [],
   "source": []
  }
 ],
 "metadata": {
  "kernelspec": {
   "display_name": "neuro",
   "language": "python",
   "name": "python3"
  },
  "language_info": {
   "codemirror_mode": {
    "name": "ipython",
    "version": 3
   },
   "file_extension": ".py",
   "mimetype": "text/x-python",
   "name": "python",
   "nbconvert_exporter": "python",
   "pygments_lexer": "ipython3",
   "version": "3.10.4 (main, Mar 31 2022, 08:41:55) [GCC 7.5.0]"
  },
  "vscode": {
   "interpreter": {
    "hash": "8b9c5593a17fba624379e9190bd6a6e8859574f8bd8d9fe0bedd91538d1381a6"
   }
  }
 },
 "nbformat": 4,
 "nbformat_minor": 5
}
