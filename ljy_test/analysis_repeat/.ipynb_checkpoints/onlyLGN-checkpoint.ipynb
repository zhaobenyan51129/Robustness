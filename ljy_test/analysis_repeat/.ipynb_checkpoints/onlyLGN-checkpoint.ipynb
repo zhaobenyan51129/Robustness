{
 "cells": [
  {
   "cell_type": "code",
   "execution_count": 1,
   "id": "4f6c6a90-279b-43df-9abc-4b1f92473f29",
   "metadata": {},
   "outputs": [],
   "source": [
    "import numpy as np\n",
    "import PIL.Image as Image\n",
    "import os\n",
    "import matplotlib.pyplot as plt\n",
    "import matplotlib as mpl\n",
    "from readPatchOutput import *\n",
    "\n",
    "\n",
    "repeat = 20\n",
    "n_pic = 30\n",
    "nV1 = 1024\n",
    "nblock = 5\n",
    "nE = 768\n",
    "pixel = '16'\n",
    "Epick = []\n",
    "Ipick = []\n",
    "for i in range(nblock):\n",
    "    for j in range(nV1):\n",
    "        if j <nE:\n",
    "            Epick.append(i*nV1+j)\n",
    "        else:\n",
    "            Ipick.append(i*nV1+j)"
   ]
  },
  {
   "cell_type": "code",
   "execution_count": 17,
   "id": "db7700b1-cc8b-49ce-b361-e93f02f82028",
   "metadata": {},
   "outputs": [],
   "source": [
    "res_fdr = '/root/autodl-tmp/ljy/resource_repeat/'\n",
    "setup_fdr = '/root/autodl-tmp/ljy/resource_repeat/'\n",
    "data_fdr = '/root/autodl-tmp/ljy/data_repeat/'\n",
    "output_suffix = 'repeat_'\n",
    "\n",
    "cfg = []\n",
    "fr = []\n",
    "F0_input = []\n",
    "F1_input = []\n",
    "for k in range(1,n_pic+1):\n",
    "    #读取参数文件\n",
    "    for i in range(1,repeat+1):\n",
    "        with open(res_fdr+f'drifting_color_{k}_cfg.bin') as f:\n",
    "            sf = np.fromfile(f,'f4',1)[0]\n",
    "            ori = np.fromfile(f,'f4',1)[0]\n",
    "            phase = np.fromfile(f,'f4',1)[0]\n",
    "            c = np.fromfile(f,'f4',1)[0]\n",
    "        cfg.append([sf,ori,phase,c])\n",
    "\n",
    "        #读取文件\n",
    "        with open(data_fdr+'sample_OutAndInputCount_'+output_suffix+str(i)+'_'+str(k)+'.bin') as f:\n",
    "            sampleSize = np.fromfile(f,'u4',1)[0]\n",
    "            sample_t0, sample_t1 = np.fromfile(f, 'f4', 2)\n",
    "            sampleID = np.fromfile(f,'u4',sampleSize)\n",
    "            sample_spikeCount = np.fromfile(f,'u4',sampleSize)\n",
    "            F0 = np.fromfile(f,'f4',sampleSize)\n",
    "            F1 = np.fromfile(f,'f4',sampleSize)    \n",
    "        fr.append(sample_spikeCount)\n",
    "        F0_input.append(F0)\n",
    "        F1_input.append(F1)\n",
    "fr = np.array(fr).reshape(n_pic, repeat, -1)\n",
    "# fr = np.array(fr)\n",
    "F0_input = np.array(F0_input).reshape(n_pic, repeat, -1)\n",
    "F1_input = np.array(F1_input).reshape(n_pic, repeat, -1)\n",
    "cfg = np.array(cfg)\n",
    "nOri = 6"
   ]
  },
  {
   "cell_type": "code",
   "execution_count": 24,
   "id": "72fa2ed6-a0de-4a3d-aa0e-ab1e40fe7a9a",
   "metadata": {},
   "outputs": [
    {
     "data": {
      "text/plain": [
       "array([0.0499, 0.0499, 0.0499, 0.0499, 0.0499, 0.0499, 0.0499, 0.0499,\n",
       "       0.0499, 0.0499, 0.0499, 0.0499, 0.0499, 0.0499, 0.0499, 0.0499,\n",
       "       0.0499, 0.0499, 0.0499, 0.0499], dtype=float32)"
      ]
     },
     "execution_count": 24,
     "metadata": {},
     "output_type": "execute_result"
    }
   ],
   "source": [
    "F0_input[0][:,2]"
   ]
  },
  {
   "cell_type": "code",
   "execution_count": 19,
   "id": "deb55fc6-97cc-44c8-929c-63d01d983f6a",
   "metadata": {},
   "outputs": [
    {
     "data": {
      "text/plain": [
       "array([[ 0, 17, 31, ...,  2,  3,  0],\n",
       "       [ 0, 14, 31, ...,  4,  5,  0],\n",
       "       [ 0, 16, 31, ...,  5,  3,  0],\n",
       "       ...,\n",
       "       [ 0, 17, 31, ...,  2,  2,  0],\n",
       "       [ 0, 18, 31, ...,  4,  4,  0],\n",
       "       [ 0, 16, 31, ...,  4,  2,  0]], dtype=uint32)"
      ]
     },
     "execution_count": 19,
     "metadata": {},
     "output_type": "execute_result"
    }
   ],
   "source": [
    "fr[0]"
   ]
  },
  {
   "cell_type": "code",
   "execution_count": null,
   "id": "194355e8-c37a-476d-83a1-5e78fbe6d641",
   "metadata": {},
   "outputs": [],
   "source": []
  }
 ],
 "metadata": {
  "kernelspec": {
   "display_name": "general",
   "language": "python",
   "name": "general"
  },
  "language_info": {
   "codemirror_mode": {
    "name": "ipython",
    "version": 3
   },
   "file_extension": ".py",
   "mimetype": "text/x-python",
   "name": "python",
   "nbconvert_exporter": "python",
   "pygments_lexer": "ipython3",
   "version": "3.10.6"
  }
 },
 "nbformat": 4,
 "nbformat_minor": 5
}
