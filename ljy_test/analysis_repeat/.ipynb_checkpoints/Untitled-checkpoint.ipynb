{
 "cells": [
  {
   "cell_type": "code",
   "execution_count": 32,
   "id": "04792376-2df5-4e65-8947-21fc5436fae4",
   "metadata": {},
   "outputs": [],
   "source": [
    "import numpy as np\n",
    "import PIL.Image as Image\n",
    "import os\n",
    "import matplotlib.pyplot as plt\n",
    "import matplotlib as mpl\n",
    "from readPatchOutput import *\n",
    "np.set_printoptions(threshold=np.inf)\n",
    "\n",
    "repeat = 10\n",
    "n_pic = 6\n",
    "nV1 = 1024\n",
    "nblock = 5\n",
    "nE = 768\n",
    "pixel = '16'\n",
    "Epick = []\n",
    "Ipick = []\n",
    "for i in range(nblock):\n",
    "    for j in range(nV1):\n",
    "        if j <nE:\n",
    "            Epick.append(i*nV1+j)\n",
    "        else:\n",
    "            Ipick.append(i*nV1+j)"
   ]
  },
  {
   "cell_type": "code",
   "execution_count": 33,
   "id": "3c410087-ee7b-4036-acba-a8e7006b4dca",
   "metadata": {},
   "outputs": [],
   "source": [
    "res_fdr = '/root/autodl-tmp/ljy/resource_repeat/'\n",
    "setup_fdr = '/root/autodl-tmp/ljy/resource_repeat/'\n",
    "data_fdr = '/root/autodl-tmp/ljy/data_repeat/'\n",
    "output_suffix = 'repeat_'\n",
    "nLGN = 512\n",
    "nt = 8000\n",
    "fr = []\n",
    "\n",
    "for k in range(1,n_pic+1):\n",
    "    #读取参数文件\n",
    "    for i in range(1,repeat+1):\n",
    "        with open(data_fdr+'sample_spikeCount_'+output_suffix+str(i)+'_'+str(k)+'.bin') as f:\n",
    "            sampleSize = np.fromfile(f, 'u4', 1)[0] #一共5120\n",
    "            sample_t0, sample_t1 = np.fromfile(f, 'f4', 2)#t0是开始时间，t1是结束时间，我一共跑了1s\n",
    "            nt = np.fromfile(f, 'u4', 1)[0]\n",
    "            nLGN = np.fromfile(f, 'u4', 1)[0]\n",
    "            LGN_spike_time = np.fromfile(f, 'u4', nLGN*nt)\n",
    "            sampleID = np.fromfile(f, 'u4', sampleSize)#id排序是顺序的\n",
    "            sample_spikeCount = np.fromfile(f, 'u4', sampleSize)\n",
    "            fr.append(sample_spikeCount)\n",
    "            \n",
    "            \n",
    "        "
   ]
  },
  {
   "cell_type": "code",
   "execution_count": 34,
   "id": "955ede3e-3b9c-4495-9987-86476a18a0d5",
   "metadata": {},
   "outputs": [],
   "source": [
    "fr = np.array(fr).reshape(n_pic, repeat, -1)"
   ]
  },
  {
   "cell_type": "code",
   "execution_count": 44,
   "id": "97892184-40a6-4da4-9736-69f2d5cdcbf7",
   "metadata": {},
   "outputs": [
    {
     "ename": "IndexError",
     "evalue": "index 6 is out of bounds for axis 0 with size 6",
     "output_type": "error",
     "traceback": [
      "\u001b[0;31m---------------------------------------------------------------------------\u001b[0m",
      "\u001b[0;31mIndexError\u001b[0m                                Traceback (most recent call last)",
      "Cell \u001b[0;32mIn [44], line 1\u001b[0m\n\u001b[0;32m----> 1\u001b[0m \u001b[43mfr\u001b[49m\u001b[43m[\u001b[49m\u001b[38;5;241;43m6\u001b[39;49m\u001b[43m]\u001b[49m[\u001b[38;5;241m0\u001b[39m]\n",
      "\u001b[0;31mIndexError\u001b[0m: index 6 is out of bounds for axis 0 with size 6"
     ]
    }
   ],
   "source": []
  },
  {
   "cell_type": "code",
   "execution_count": null,
   "id": "7644a3de-3d31-46a5-aca8-8375696710ee",
   "metadata": {},
   "outputs": [],
   "source": []
  }
 ],
 "metadata": {
  "kernelspec": {
   "display_name": "general",
   "language": "python",
   "name": "general"
  },
  "language_info": {
   "codemirror_mode": {
    "name": "ipython",
    "version": 3
   },
   "file_extension": ".py",
   "mimetype": "text/x-python",
   "name": "python",
   "nbconvert_exporter": "python",
   "pygments_lexer": "ipython3",
   "version": "3.10.6"
  }
 },
 "nbformat": 4,
 "nbformat_minor": 5
}
