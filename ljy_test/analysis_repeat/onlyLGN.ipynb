{
 "cells": [
  {
   "cell_type": "code",
   "execution_count": 11,
   "id": "4f6c6a90-279b-43df-9abc-4b1f92473f29",
   "metadata": {},
   "outputs": [],
   "source": [
    "import numpy as np\n",
    "import PIL.Image as Image\n",
    "import os\n",
    "import matplotlib.pyplot as plt\n",
    "import matplotlib as mpl\n",
    "from readPatchOutput import *\n",
    "np.set_printoptions(threshold=np.inf)\n",
    "\n",
    "repeat = 5\n",
    "n_pic = 1\n",
    "nV1 = 1024\n",
    "nblock = 5\n",
    "nE = 768\n",
    "pixel = '16'\n",
    "Epick = []\n",
    "Ipick = []\n",
    "for i in range(nblock):\n",
    "    for j in range(nV1):\n",
    "        if j <nE:\n",
    "            Epick.append(i*nV1+j)\n",
    "        else:\n",
    "            Ipick.append(i*nV1+j)"
   ]
  },
  {
   "cell_type": "code",
   "execution_count": 12,
   "id": "db7700b1-cc8b-49ce-b361-e93f02f82028",
   "metadata": {},
   "outputs": [],
   "source": [
    "res_fdr = '/root/autodl-tmp/ljy/resource_repeat/'\n",
    "setup_fdr = '/root/autodl-tmp/ljy/resource_repeat/'\n",
    "data_fdr = '/root/autodl-tmp/ljy/data_repeat_onlyLGN_nonoise/'\n",
    "output_suffix = 'repeat_'\n",
    "\n",
    "cfg = []\n",
    "fr = []\n",
    "F0_input = []\n",
    "F1_input = []\n",
    "for k in range(1,n_pic+1):\n",
    "    #读取参数文件\n",
    "    for i in range(1,repeat+1):\n",
    "        with open(res_fdr+f'drifting_color_{k}_cfg.bin') as f:\n",
    "            sf = np.fromfile(f,'f4',1)[0]\n",
    "            ori = np.fromfile(f,'f4',1)[0]\n",
    "            phase = np.fromfile(f,'f4',1)[0]\n",
    "            c = np.fromfile(f,'f4',1)[0]\n",
    "        cfg.append([sf,ori,phase,c])\n",
    "\n",
    "        #读取文件\n",
    "        with open(data_fdr+'sample_OutAndInputCount_'+output_suffix+str(i)+'_'+str(k)+'.bin') as f:\n",
    "            sampleSize = np.fromfile(f,'u4',1)[0]\n",
    "            sample_t0, sample_t1 = np.fromfile(f, 'f4', 2)\n",
    "            sampleID = np.fromfile(f,'u4',sampleSize)\n",
    "            sample_spikeCount = np.fromfile(f,'u4',sampleSize)\n",
    "            F0 = np.fromfile(f,'f4',sampleSize)\n",
    "            F1 = np.fromfile(f,'f4',sampleSize)    \n",
    "        fr.append(sample_spikeCount)\n",
    "        F0_input.append(F0)\n",
    "        F1_input.append(F1)\n",
    "    \n",
    "fr = np.array(fr).reshape(n_pic, repeat, -1)\n",
    "# fr = np.array(fr)\n",
    "F0_input = np.array(F0_input).reshape(n_pic, repeat, -1)\n",
    "F1_input = np.array(F1_input).reshape(n_pic, repeat, -1)\n",
    "cfg = np.array(cfg)\n",
    "nOri = 6"
   ]
  },
  {
   "cell_type": "code",
   "execution_count": 35,
   "id": "72fa2ed6-a0de-4a3d-aa0e-ab1e40fe7a9a",
   "metadata": {},
   "outputs": [
    {
     "data": {
      "text/plain": [
       "array([[0.05149738, 0.        , 0.0499    , 0.        , 0.0499    ],\n",
       "       [0.05147988, 0.        , 0.0499    , 0.        , 0.0499    ],\n",
       "       [0.05148803, 0.        , 0.0499    , 0.        , 0.0499    ],\n",
       "       [0.05150304, 0.        , 0.0499    , 0.        , 0.0499    ],\n",
       "       [0.0514705 , 0.        , 0.0498    , 0.        , 0.0498    ],\n",
       "       [0.05150266, 0.        , 0.0499    , 0.        , 0.0499    ],\n",
       "       [0.05149738, 0.        , 0.0499    , 0.        , 0.0499    ],\n",
       "       [0.0515043 , 0.        , 0.0499    , 0.        , 0.0499    ],\n",
       "       [0.05148803, 0.        , 0.0499    , 0.        , 0.0499    ],\n",
       "       [0.05148803, 0.        , 0.0499    , 0.        , 0.0499    ],\n",
       "       [0.05148803, 0.        , 0.0499    , 0.        , 0.0499    ],\n",
       "       [0.0514705 , 0.        , 0.0498    , 0.        , 0.0498    ],\n",
       "       [0.05151892, 0.        , 0.0499    , 0.        , 0.0499    ],\n",
       "       [0.05150266, 0.        , 0.0499    , 0.        , 0.0499    ],\n",
       "       [0.05151239, 0.        , 0.0499    , 0.        , 0.0499    ],\n",
       "       [0.05147869, 0.        , 0.0499    , 0.        , 0.0499    ],\n",
       "       [0.05150177, 0.        , 0.0498    , 0.        , 0.0498    ]],\n",
       "      dtype=float32)"
      ]
     },
     "execution_count": 35,
     "metadata": {},
     "output_type": "execute_result"
    }
   ],
   "source": [
    "F0_input[1][:,:5]"
   ]
  },
  {
   "cell_type": "code",
   "execution_count": 36,
   "id": "deb55fc6-97cc-44c8-929c-63d01d983f6a",
   "metadata": {},
   "outputs": [
    {
     "data": {
      "text/plain": [
       "array([[ 4,  4, 29,  1, 26],\n",
       "       [ 3,  4, 28,  1, 26],\n",
       "       [ 4,  4, 28,  1, 26],\n",
       "       [ 4,  4, 29,  1, 26],\n",
       "       [ 4,  4, 28,  1, 26],\n",
       "       [ 3,  4, 29,  1, 26],\n",
       "       [ 4,  4, 29,  1, 26],\n",
       "       [ 4,  4, 29,  1, 26],\n",
       "       [ 4,  4, 29,  1, 26],\n",
       "       [ 4,  4, 29,  1, 26],\n",
       "       [ 4,  4, 28,  1, 26],\n",
       "       [ 4,  4, 28,  1, 26],\n",
       "       [ 4,  4, 29,  1, 26],\n",
       "       [ 4,  4, 29,  1, 26],\n",
       "       [ 3,  4, 28,  1, 26],\n",
       "       [ 4,  4, 28,  1, 26],\n",
       "       [ 3,  4, 28,  1, 26]], dtype=uint32)"
      ]
     },
     "execution_count": 36,
     "metadata": {},
     "output_type": "execute_result"
    }
   ],
   "source": [
    "fr[1][:,:5]"
   ]
  },
  {
   "cell_type": "code",
   "execution_count": 13,
   "id": "ed4c580f-51d0-4e55-bc6a-c814cf95052b",
   "metadata": {},
   "outputs": [
    {
     "name": "stdout",
     "output_type": "stream",
     "text": [
      "1\n"
     ]
    },
    {
     "ename": "AttributeError",
     "evalue": "module 'numpy' has no attribute 'aray'",
     "output_type": "error",
     "traceback": [
      "\u001b[0;31m---------------------------------------------------------------------------\u001b[0m",
      "\u001b[0;31mAttributeError\u001b[0m                            Traceback (most recent call last)",
      "Cell \u001b[0;32mIn [13], line 36\u001b[0m\n\u001b[1;32m     34\u001b[0m     \u001b[38;5;28mprint\u001b[39m(k)\n\u001b[1;32m     35\u001b[0m fr \u001b[38;5;241m=\u001b[39m np\u001b[38;5;241m.\u001b[39marray(fr)\u001b[38;5;241m.\u001b[39mreshape(n_pic, repeat, \u001b[38;5;241m-\u001b[39m\u001b[38;5;241m1\u001b[39m)\n\u001b[0;32m---> 36\u001b[0m LGN \u001b[38;5;241m=\u001b[39m \u001b[43mnp\u001b[49m\u001b[38;5;241;43m.\u001b[39;49m\u001b[43maray\u001b[49m(LGN)\u001b[38;5;241m.\u001b[39mreshape(n_pic,repeat,nLGN,nt)\n\u001b[1;32m     37\u001b[0m cfg \u001b[38;5;241m=\u001b[39m np\u001b[38;5;241m.\u001b[39marray(cfg)\n\u001b[1;32m     38\u001b[0m nOri \u001b[38;5;241m=\u001b[39m \u001b[38;5;241m6\u001b[39m\n",
      "File \u001b[0;32m/root/miniconda3/envs/general/lib/python3.10/site-packages/numpy/__init__.py:311\u001b[0m, in \u001b[0;36m__getattr__\u001b[0;34m(attr)\u001b[0m\n\u001b[1;32m    308\u001b[0m     \u001b[38;5;28;01mfrom\u001b[39;00m \u001b[38;5;21;01m.\u001b[39;00m\u001b[38;5;21;01mtesting\u001b[39;00m \u001b[38;5;28;01mimport\u001b[39;00m Tester\n\u001b[1;32m    309\u001b[0m     \u001b[38;5;28;01mreturn\u001b[39;00m Tester\n\u001b[0;32m--> 311\u001b[0m \u001b[38;5;28;01mraise\u001b[39;00m \u001b[38;5;167;01mAttributeError\u001b[39;00m(\u001b[38;5;124m\"\u001b[39m\u001b[38;5;124mmodule \u001b[39m\u001b[38;5;132;01m{!r}\u001b[39;00m\u001b[38;5;124m has no attribute \u001b[39m\u001b[38;5;124m\"\u001b[39m\n\u001b[1;32m    312\u001b[0m                      \u001b[38;5;124m\"\u001b[39m\u001b[38;5;132;01m{!r}\u001b[39;00m\u001b[38;5;124m\"\u001b[39m\u001b[38;5;241m.\u001b[39mformat(\u001b[38;5;18m__name__\u001b[39m, attr))\n",
      "\u001b[0;31mAttributeError\u001b[0m: module 'numpy' has no attribute 'aray'"
     ]
    }
   ],
   "source": [
    "res_fdr = '/root/autodl-tmp/ljy/resource_repeat/'\n",
    "setup_fdr = '/root/autodl-tmp/ljy/resource_repeat/'\n",
    "data_fdr = '/root/autodl-tmp/ljy/data_repeat_onlyLGN_nonoise/'\n",
    "output_suffix = 'repeat_'\n",
    "\n",
    "nLGN = 512\n",
    "nt = 40000\n",
    "\n",
    "cfg = []\n",
    "fr = []\n",
    "LGN = np.empty((n_pic,repeat,nLGN,nt))\n",
    "for k in range(1,n_pic+1):\n",
    "    #读取参数文件\n",
    "    for i in range(1,repeat+1):\n",
    "        with open(res_fdr+f'drifting_color_{k}_cfg.bin') as f:\n",
    "            sf = np.fromfile(f,'f4',1)[0]\n",
    "            ori = np.fromfile(f,'f4',1)[0]\n",
    "            phase = np.fromfile(f,'f4',1)[0]\n",
    "            c = np.fromfile(f,'f4',1)[0]\n",
    "        cfg.append([sf,ori,phase,c])\n",
    "\n",
    "        #读取文件\n",
    "        with open(data_fdr+'sample_spikeCount_'+output_suffix+str(i)+'_'+str(k)+'.bin') as f:\n",
    "            sampleSize = np.fromfile(f, 'u4', 1)[0] #一共5120\n",
    "            sample_t0, sample_t1 = np.fromfile(f, 'f4', 2)#t0是开始时间，t1是结束时间，我一共跑了1s\n",
    "            nt = np.fromfile(f, 'u4', 1)[0]\n",
    "            nLGN = np.fromfile(f, 'u4', 1)[0]\n",
    "            LGN_spike_time = np.fromfile(f, 'u4', nLGN*nt)\n",
    "            sampleID = np.fromfile(f, 'u4', sampleSize)#id排序是顺序的\n",
    "            sample_spikeCount = np.fromfile(f, 'u4', sampleSize)\n",
    "        LGN_spike_time = LGN_spike_time.reshape((nt,nLGN)).T\n",
    "        LGN[k-1,i-1,:,:] = LGN_spike_time\n",
    "        fr.append(sample_spikeCount)\n",
    "    print(k)\n",
    "fr = np.array(fr).reshape(n_pic, repeat, -1)\n",
    "# LGN = np.aray(LGN).reshape(n_pic,repeat,nLGN,nt)\n",
    "cfg = np.array(cfg)\n",
    "nOri = 6"
   ]
  },
  {
   "cell_type": "code",
   "execution_count": 5,
   "id": "194355e8-c37a-476d-83a1-5e78fbe6d641",
   "metadata": {},
   "outputs": [],
   "source": [
    "nLGN = 512\n",
    "nt = 40000\n",
    "LGN = np.empty((n_pic,repeat,nLGN,nt))"
   ]
  },
  {
   "cell_type": "code",
   "execution_count": 17,
   "id": "bf512681-03e9-4df4-9191-6fb3077c6485",
   "metadata": {},
   "outputs": [],
   "source": [
    "LGN_sum = LGN.sum(axis=3)"
   ]
  },
  {
   "cell_type": "code",
   "execution_count": 22,
   "id": "9312ac31-c8d4-4b6b-8890-2abd6d4ede97",
   "metadata": {},
   "outputs": [
    {
     "data": {
      "text/plain": [
       "array([[492., 512., 518., 510., 555., 523., 522., 488., 524., 536., 485.],\n",
       "       [492., 512., 518., 509., 555., 522., 522., 488., 524., 535., 486.],\n",
       "       [492., 512., 518., 510., 555., 523., 523., 488., 524., 536., 487.],\n",
       "       [492., 512., 518., 510., 555., 522., 522., 487., 524., 537., 486.],\n",
       "       [492., 512., 518., 510., 555., 522., 523., 488., 524., 536., 487.]])"
      ]
     },
     "execution_count": 22,
     "metadata": {},
     "output_type": "execute_result"
    }
   ],
   "source": [
    "LGN_sum[0,:,200:211]"
   ]
  },
  {
   "cell_type": "code",
   "execution_count": 31,
   "id": "38af1d2a-3027-4b8c-863d-decc54525783",
   "metadata": {},
   "outputs": [
    {
     "data": {
      "text/plain": [
       "(array([ 303,  305,  310,  312,  341, 1060, 1064, 1074, 1146, 1235, 1245,\n",
       "        1253, 1271, 1273, 1285, 1310, 1320, 1332, 1348, 1360, 1398, 2059,\n",
       "        2079, 2114, 2120, 2141, 2146, 2148, 2156, 2219]),\n",
       " array([ 302,  305,  309,  312,  341, 1060, 1064, 1073, 1145, 1235, 1245,\n",
       "        1253, 1271, 1273, 1284, 1310, 1320, 1332, 1348, 1360, 1397, 2058,\n",
       "        2079, 2113, 2119, 2141, 2146, 2147, 2156, 2219]))"
      ]
     },
     "execution_count": 31,
     "metadata": {},
     "output_type": "execute_result"
    }
   ],
   "source": [
    "np.arange(nt)[LGN[0,1,0,:]==1][:30],np.arange(nt)[LGN[0,2,0,:]==1][:30]"
   ]
  },
  {
   "cell_type": "code",
   "execution_count": 33,
   "id": "d4802d15-2f6d-4162-8b4d-0d5d4673f70e",
   "metadata": {},
   "outputs": [
    {
     "data": {
      "text/plain": [
       "108.0"
      ]
     },
     "execution_count": 33,
     "metadata": {},
     "output_type": "execute_result"
    }
   ],
   "source": [
    "abs(LGN[0,1,:,:].sum(axis=1) - LGN[0,2,:,:].sum(axis=1)).sum()"
   ]
  },
  {
   "cell_type": "code",
   "execution_count": 25,
   "id": "996a98cf-93ca-4822-aa11-b551ca91712f",
   "metadata": {},
   "outputs": [
    {
     "data": {
      "text/plain": [
       "array([ 796.,  804.,  652.,  732.,  354.,  906.,  903.,  894.,  935.,\n",
       "        864.,  886.,  954.,  816.,  760.,  546.,  924.,  882.,  304.,\n",
       "        981.,  894.,  278.,  748.,  856.,  352.,  822.,  876.,  928.,\n",
       "        850.,  654.,  880.,  916.,  834.,  822.,  836.,  881.,  832.,\n",
       "        504.,  830.,  947.,  807.,  928.,  830.,  636.,  406.,  960.,\n",
       "        866.,  868.,  806.,  822.,  931.,  878.,  845.,  949.,  866.,\n",
       "        884.,  840.,  865.,  776.,  857.,  406.,  829.,  938.,  620.,\n",
       "        930.,  638.,  938.,  869.,  544.,  841.,  859.,  792.,  860.,\n",
       "        912.,  864.,  836.,  874.,  764.,  846.,  452.,  847.,  274.,\n",
       "        856.,  204.,  902.,  750.,  894.,  903.,  804.,  740.,  910.,\n",
       "        926.,  956.,   78.,  812.,  192.,  970.,  858.,  925.,  941.,\n",
       "        476.,  906.,  458.,  784.,  852.,  246.,  822.,  879.,  880.,\n",
       "        690.,  780.,  828.,  884.,  786.,  952.,  883.,  328.,  746.,\n",
       "        888.,  819.,  926.,  912.,  938.,  904.,  893.,  997.,  967.,\n",
       "        972.,  929.,  832.,  946.,  548.,  502.,  826., 1014., 1046.,\n",
       "        866., 1043.,  973.,  900.,  960., 1004.,  808.,  687.,  961.,\n",
       "        990.,  966., 1008., 1014.,  834.,  848.,  666.,  526.,  946.,\n",
       "        928.,  974.,  965.,  854., 1034., 1011.,  910.,  976.,  754.,\n",
       "        993.,  960.,  734.,  866., 1040.,  938.,  932.,  932.,  872.,\n",
       "        875., 1047.,  932.,  941.,  900.,  708.,  964.,  926.,  900.,\n",
       "       1051.,  945.,  946.,  974.,  963.,  254.,  946.,  972.,  882.,\n",
       "       1018.,  836., 1009.,   78.,  966.,  906.,  872.,  998.,  987.,\n",
       "        296.,  954.,  928.,  930.,  926.,  941.,  928.,  884.,  762.,\n",
       "        897.,  412., 1012.,  568., 1025.,  842.,  905.,  974.,  882.,\n",
       "        718., 1028., 1012., 1000.,  909.,  974.,  974., 1000.,  938.,\n",
       "        900., 1020.,  286.,  936.,  918.,  918.,  968.,  846.,  788.,\n",
       "        966.,  990.,   76.,  886.,  803.,  862.,  960.,  998.,  974.,\n",
       "        685.,  908.,  882.,  990.,  992., 1018., 1020.,  960., 1052.,\n",
       "        952.,  970.,  980.,  984.,  836.,  826.,  908.,  788.,  866.,\n",
       "        855.,  836.,  902.,  896.,  830.,  901.,  786.,  899.,  888.,\n",
       "        872.,  897.,  927.,  882.,  888.,  846.,  887.,  874.,  128.,\n",
       "        999.,  896.,  712.,  748.,  820.,  810.,  862.,  942.,  808.,\n",
       "        893.,  856.,  876.,  244.,  622.,  797.,  975.,  914.,  904.,\n",
       "        854.,  893.,  873.,  958.,  857.,  470.,  883.,  890.,  942.,\n",
       "        904.,  852.,  936.,  736.,  874.,  895.,  910.,  264.,  832.,\n",
       "        722.,  918.,   48.,  913.,  560.,  867.,  922.,  358.,  910.,\n",
       "        894.,  846.,  866.,  902.,  838.,  898.,  862.,  816.,  686.,\n",
       "        902., 1020.,  905.,  814.,  948.,  748.,  736.,  840.,  815.,\n",
       "        888.,  871.,  918.,  806.,  914.,  838.,  990.,  810.,  918.,\n",
       "        870.,  840.,  924.,  904.,  504.,  866.,  708.,  798.,  978.,\n",
       "        867.,  948.,  742.,  804.,  912.,  164.,  156.,  954.,  812.,\n",
       "        888.,  936.,  788.,  890.,  886.,  909.,  884.,  920.,  906.,\n",
       "        806.,  966.,  865.,  661.,  760.,  859.,  852.,  982., 1022.,\n",
       "        804.,   46.,  948.,  868.,  992.,  878.,  970., 1060.,  659.,\n",
       "        995., 1007., 1016.,  982.,  904.,  958.,  944.,  893.,  955.,\n",
       "        961.,  902., 1020., 1034.,  770.,  752.,  839.,  699.,  947.,\n",
       "        982.,  842.,  898.,  894.,  940.,  568.,  997.,  970.,  990.,\n",
       "        976.,  862.,  958.,  980.,  961., 1016., 1027.,  418.,  828.,\n",
       "        962.,  960.,  914., 1006.,  884.,  104.,  967.,  946., 1000.,\n",
       "        116.,  964.,  964., 1015.,  942.,  948.,  172., 1047.,  968.,\n",
       "        820., 1036.,  926.,  851.,  978., 1027.,  996.,  934.,  960.,\n",
       "        888.,  886.,  966.,  956.,  961.,  829.,  882.,  896.,  386.,\n",
       "        902.,  899.,  978.,  996., 1022.,  994., 1003.,  961.,  994.,\n",
       "        930., 1001.,  971.,  887.,  988., 1021.,  206.,  924.,  780.,\n",
       "        988.,  937.,  848., 1020.,  894.,  970.,  959.,  594.,  440.,\n",
       "        998.,  976.,  911., 1044.,  884.,  896.,  986.,  984.,  928.,\n",
       "       1042., 1047.,  924.,  994.,  957.,  174.,  944.,  992.])"
      ]
     },
     "execution_count": 25,
     "metadata": {},
     "output_type": "execute_result"
    }
   ],
   "source": [
    "abs(LGN[0,1,:,:] - LGN[0,3,:,:]).sum(axis=1)"
   ]
  },
  {
   "cell_type": "code",
   "execution_count": null,
   "id": "feabf427-e578-42eb-a3f3-fcf37a2fb2ee",
   "metadata": {},
   "outputs": [],
   "source": []
  }
 ],
 "metadata": {
  "kernelspec": {
   "display_name": "neuro",
   "language": "python",
   "name": "python3"
  },
  "language_info": {
   "codemirror_mode": {
    "name": "ipython",
    "version": 3
   },
   "file_extension": ".py",
   "mimetype": "text/x-python",
   "name": "python",
   "nbconvert_exporter": "python",
   "pygments_lexer": "ipython3",
   "version": "3.10.4 (main, Mar 31 2022, 08:41:55) [GCC 7.5.0]"
  },
  "vscode": {
   "interpreter": {
    "hash": "8b9c5593a17fba624379e9190bd6a6e8859574f8bd8d9fe0bedd91538d1381a6"
   }
  }
 },
 "nbformat": 4,
 "nbformat_minor": 5
}
