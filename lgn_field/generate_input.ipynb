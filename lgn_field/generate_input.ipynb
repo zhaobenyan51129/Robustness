{
 "cells": [
  {
   "cell_type": "code",
   "execution_count": 9,
   "metadata": {},
   "outputs": [],
   "source": [
    "import matplotlib.pyplot as plt\n",
    "import matplotlib.gridspec as gs\n",
    "import numpy as np\n",
    "import os\n",
    "from grating import *\n",
    "from ext_signal import *\n",
    "from scipy.stats import qmc"
   ]
  },
  {
   "cell_type": "code",
   "execution_count": 10,
   "metadata": {},
   "outputs": [
    {
     "name": "stdout",
     "output_type": "stream",
     "text": [
      "18.53509145317477\n",
      "0.012775991216413523\n",
      "range_deg = 0.034479770809412, buffer_deg = 0.038327973649240565\n"
     ]
    }
   ],
   "source": [
    "def acuity(ecc):\n",
    "    k = 0.2049795945022049\n",
    "    log_cpd0 = 3.6741080244555278\n",
    "    cpd = np.exp(-k*ecc + log_cpd0)\n",
    "    return 2/cpd/4\n",
    "    # return 1/cpd/4\n",
    "\n",
    "K_onC = 29.13289963\n",
    "K_onS = 23.17378917\n",
    "K_offC = 22.71914498\n",
    "K_offS = 12.53276353\n",
    "r_C = (acuity(0.095) + acuity(0))/2\n",
    "r_S = r_C*3\n",
    "cov = 0.53753\n",
    "def zeroCross(k1, k2, r1, r2):\n",
    "    return np.sqrt(np.log(k1/k2)/(r2*r2 - r1*r1))*r1*r2\n",
    "SF = 1.0/(zeroCross(K_offC, K_onS*cov, r_C, r_S)*2 + zeroCross(K_onC, K_offS*cov, r_C, r_S)*2)\n",
    "print(SF)\n",
    "\n",
    "# color-drifting\n",
    "inputLMS = True\n",
    "# range_deg = 0.0344\n",
    "range_deg=0.034479770809412 \n",
    "print(acuity(range_deg))\n",
    "buffer_deg = acuity(range_deg)*3  #*2\n",
    "print(f'range_deg = {range_deg}, buffer_deg = {buffer_deg}')\n",
    "SF = 36\n",
    "TF = 8\n",
    "time = np.array([1/TF])\n",
    "neye = 1\n",
    "center = np.pi/2 \n",
    "wing = np.pi/2\n",
    "sharpness = 1"
   ]
  },
  {
   "cell_type": "code",
   "execution_count": 12,
   "metadata": {},
   "outputs": [
    {
     "name": "stdout",
     "output_type": "stream",
     "text": [
      "32 degree per pixel\n",
      "crest in sRGB: [ 1.5214511  -1.83242368  0.72781358]\n",
      "valley in sRGB: [-18.30753009   1.0386155    0.67997673]\n",
      "0.0045504840286657855 degree per pixel\n",
      "ecc = 0.034479770809412, buffer_ecc = 0.038327973649240565\n",
      "1\n",
      "adjusted to 1 frames in total\n",
      "sharpness=1.0\n",
      "sRGB space is not enough to represent the color\n",
      "(array([-18.30576438,  -1.83242126,   0.67997842]), array([1.52145094, 1.03859808, 0.72781357]))\n"
     ]
    },
    {
     "data": {
      "image/png": "[encoded data removed]",
      "text/plain": [
       "<Figure size 640x480 with 3 Axes>"
      ]
     },
     "metadata": {},
     "output_type": "display_data"
    }
   ],
   "source": [
    "#生成grating  \n",
    "'''\n",
    "path：储存路径\n",
    "C:contrast,范围在[0,0.5]\n",
    "P:#相位,范围[0,2pi)\n",
    "SF:spatial frequency,建议范围在10到40之间\n",
    "D:方向,范围[0,pi]\n",
    "frameRate:帧率（一秒几帧，=1就是静止的,>1就是动的)\n",
    "size:图片大小\n",
    "'''\n",
    "def generate_input(path,C,P,SF,D,frameRate,size):\n",
    "      n = 1 # 给图片编号的序号\n",
    "      C = C.astype('float32')\n",
    "      P = P.astype('float32')\n",
    "      SF = SF.astype('float32')\n",
    "      D = D.astype('float32')\n",
    "\n",
    "      for c in C:\n",
    "            for sf in SF:\n",
    "                  for orient in D:\n",
    "                        for phase in P:\n",
    "                              crest = np.array([0.5+c, 0.5-c, 0.5]) #contrast和正弦光栅的波峰、波谷在LMS颜色空间的关系\n",
    "                              valley = np.array([0.5-c, 0.5+c, 0.5])\n",
    "                              video_fn = path + f'static_color-grid_test{n}'\n",
    "                              cfg_fn = path + f'static_color-grid_test{n}_cfg' #XXXcfg.bin储存每张图的参数，可以关注一下这是怎么存的，要关注存的时候的变量类型，是f4还是u4，怎么存就怎么读，\n",
    "                              f = open(cfg_fn+ '.bin', 'wb') # sf,d,p,c\n",
    "                              np.array([sf]).astype('f4').tofile(f)\n",
    "                              np.array([orient*180/np.pi]).astype('f4').tofile(f) #generate_grating需要弧度制，但是我参数保存的角度制\n",
    "                              np.array([phase*180/np.pi]).astype('f4').tofile(f)\n",
    "                              np.array([c]).astype('f4').tofile(f)\n",
    "                              crest.astype('f4').tofile(f)\n",
    "                              valley.astype('f4').tofile(f)\n",
    "                              f.close()\n",
    "                              generate_grating(1.0, sf, TF, orient, size, crest, valley, video_fn, time, phase, sharpness, frameRate, ecc = range_deg, buffer_ecc = buffer_deg, gtype='drifting', neye = neye, bar = False, center = center, wing = wing, mask = None, inputLMS = inputLMS,genMovie = True)\n",
    "                              n = n+1              \n",
    "\n",
    "def mk_path(path):#判断路径时候存在，不存在则创建\n",
    "      if not os.path.exists(path):\n",
    "            os.makedirs(path)\n",
    "      \n",
    "def main():\n",
    "      # C = np.arange(0.05,0.55,0.05) # contrast\n",
    "      C=np.array([0.45])\n",
    "      #P = np.arange(0,1,1)#0 相位\n",
    "      P=np.array([0.5*np.pi])\n",
    "      SF = np.arange(30,40,10)#37\n",
    "      D = np.array([np.pi/6])  # 方向范围[0,pi]\n",
    "      frameRate=1\n",
    "      size=32    #图片大小\n",
    "      path = '/home/zhaobenyan/model/data_save/gratings/' #保存生成的grating的地址\n",
    "      mk_path(path)\n",
    "      generate_input(path,C,P,SF,D,frameRate,size)\n",
    "\n",
    "main()"
   ]
  },
  {
   "cell_type": "code",
   "execution_count": null,
   "metadata": {},
   "outputs": [],
   "source": []
  },
  {
   "cell_type": "code",
   "execution_count": null,
   "metadata": {},
   "outputs": [],
   "source": []
  }
 ],
 "metadata": {
  "kernelspec": {
   "display_name": "neuro",
   "language": "python",
   "name": "python3"
  },
  "language_info": {
   "codemirror_mode": {
    "name": "ipython",
    "version": 3
   },
   "file_extension": ".py",
   "mimetype": "text/x-python",
   "name": "python",
   "nbconvert_exporter": "python",
   "pygments_lexer": "ipython3",
   "version": "3.10.4"
  },
  "orig_nbformat": 4
 },
 "nbformat": 4,
 "nbformat_minor": 2
}
