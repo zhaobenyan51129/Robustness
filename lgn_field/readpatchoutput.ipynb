{
 "cells": [
  {
   "cell_type": "code",
   "execution_count": 2,
   "metadata": {},
   "outputs": [
    {
     "name": "stdout",
     "output_type": "stream",
     "text": [
      "UMRtools verison: v1.2\n"
     ]
    }
   ],
   "source": [
    "import numpy as np\n",
    "import PIL.Image as Image\n",
    "import os\n",
    "import matplotlib.pyplot as plt\n",
    "import matplotlib as mpl\n",
    "from readPatchOutput import *\n",
    "from UMRtools import *"
   ]
  },
  {
   "cell_type": "code",
   "execution_count": 3,
   "metadata": {},
   "outputs": [],
   "source": [
    "HOME_DIR = os.environ['HOME']\n",
    "MODEL_DIR=f\"{HOME_DIR}/model/\"\n",
    "BIN_DIR=f\"{MODEL_DIR}bin/\"\n",
    "RESOURCE_DIR=f\"{MODEL_DIR}resource/\"\n",
    "SET_UP_DIR=f\"{MODEL_DIR}setup/\"\n",
    "REPOS_DIR=f\"{MODEL_DIR}repos/\"\n",
    "PATCHV1_DIR=f\"{REPOS_DIR}patchV1/\"\n",
    "SRC_DIR=f\"{PATCHV1_DIR}src/\"\n",
    "PATCHFAST_DIR=f\"{MODEL_DIR}patchfast/\""
   ]
  },
  {
   "cell_type": "code",
   "execution_count": 18,
   "metadata": {},
   "outputs": [
    {
     "name": "stdout",
     "output_type": "stream",
     "text": [
      "using f4\n",
      "frameRate = 1\n",
      "/home/zhaobenyan/model/resource/static_color-grid_0.bin\n",
      "[ 768 1024]\n",
      "nE = 768, nI = 256\n",
      "vL = -65.0, vI = -75.0, vE = 0.0\n",
      "vR = [-58. -58.], gL = [2.  2.8], vT = [-50. -50.]\n",
      "sRatioLGN = [0.3 0.3], sRatioV1 = [0.3 0.3 0.9 0.3]\n",
      "nLGN = 512, nV1 = 5120, dt = 0.125, nt = 8000\n",
      "8000 0.125\n"
     ]
    }
   ],
   "source": [
    "output_suffix0 = 'merge_test_1'\n",
    "res_suffix = 'minimal-patch'\n",
    "conLGN_suffix = 'test_lgn' \n",
    "conV1_suffix = 'test_v1'\n",
    "res_suffix = \"_\" + res_suffix\n",
    "conLGN_suffix = \"-\" + conLGN_suffix\n",
    "conV1_suffix = \"-\" + conV1_suffix\n",
    "output_suffix = output_suffix0\n",
    "_output_suffix = \"-\" + output_suffix\n",
    "res_fdr = RESOURCE_DIR\n",
    "setup_fdr = SET_UP_DIR\n",
    "data_fdr = PATCHFAST_DIR\n",
    "Epick = []\n",
    "\n",
    "\n",
    "LGN_V1_sFn = setup_fdr + \"LGN_V1_sList\" + conLGN_suffix + \".bin\"\n",
    "LGN_V1_idFn = setup_fdr + \"LGN_V1_idList\" + conLGN_suffix + \".bin\"\n",
    "LGN_spFn = data_fdr + \"LGN_sp\" + _output_suffix\n",
    "parameterFn = data_fdr + \"patchV1_cfg\" +_output_suffix + \".bin\"\n",
    "\n",
    "# prec, sizeofPrec, vL, vE, vI, vR, vThres, gL, vT, typeAcc, nE, nI, sRatioLGN, sRatioV1, frRatioLGN, convolRatio, nType, nTypeE, nTypeI, frameRate, inputFn, _virtual_LGN, tonicDep, noisyDep = read_cfg(parameterFn)\n",
    "LGN_V1_s = readLGN_V1_s0(LGN_V1_sFn)\n",
    "LGN_V1_ID, nLGN_V1 = readLGN_V1_ID(LGN_V1_idFn)\n",
    "LGN_spScatter = readLGN_sp(LGN_spFn + \".bin\", prec = prec)\n",
    "# LGN_V1_idFn = setup_fdr + \"LGN_V1_idList\" + conLGN_suffix + \".bin\"\n",
    "# LGN_V1_ID, nLGN_V1 = readLGN_V1_ID(LGN_V1_idFn)\n"
   ]
  },
  {
   "cell_type": "code",
   "execution_count": 19,
   "metadata": {},
   "outputs": [
    {
     "name": "stdout",
     "output_type": "stream",
     "text": [
      "(512,)\n"
     ]
    }
   ],
   "source": [
    "print(LGN_spScatter.shape)"
   ]
  },
  {
   "cell_type": "code",
   "execution_count": 17,
   "metadata": {},
   "outputs": [
    {
     "name": "stdout",
     "output_type": "stream",
     "text": [
      "(5120,)\n",
      "(5120,)\n"
     ]
    }
   ],
   "source": [
    "print(LGN_V1_s.shape)\n",
    "print(LGN_V1_ID)"
   ]
  },
  {
   "cell_type": "code",
   "execution_count": null,
   "metadata": {},
   "outputs": [],
   "source": []
  },
  {
   "cell_type": "code",
   "execution_count": null,
   "metadata": {},
   "outputs": [],
   "source": []
  },
  {
   "cell_type": "code",
   "execution_count": null,
   "metadata": {},
   "outputs": [],
   "source": []
  }
 ],
 "metadata": {
  "kernelspec": {
   "display_name": "neuro",
   "language": "python",
   "name": "python3"
  },
  "language_info": {
   "codemirror_mode": {
    "name": "ipython",
    "version": 3
   },
   "file_extension": ".py",
   "mimetype": "text/x-python",
   "name": "python",
   "nbconvert_exporter": "python",
   "pygments_lexer": "ipython3",
   "version": "3.10.4"
  },
  "orig_nbformat": 4
 },
 "nbformat": 4,
 "nbformat_minor": 2
}
