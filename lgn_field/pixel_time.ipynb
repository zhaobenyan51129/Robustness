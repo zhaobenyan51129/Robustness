{
 "cells": [
  {
   "cell_type": "code",
   "execution_count": 1,
   "metadata": {},
   "outputs": [
    {
     "name": "stdout",
     "output_type": "stream",
     "text": [
      "lum in LMS = [0.45436904 0.47353315 0.0720978 ]\n",
      "[[1.31265115 0.37916654 0.17658182]\n",
      " [0.37916654 0.43588297 0.06613005]\n",
      " [0.17658182 0.06613005 1.03101131]]\n",
      "[[10.82668925 -2.48855249  0.0461736 ]\n",
      " [-2.48855249  1.38614356 -0.12768065]\n",
      " [ 0.0461736  -0.12768065  1.15767798]]\n",
      "18.53509145317477\n",
      "0.012775991216413523\n",
      "range_deg = 0.034479770809412, buffer_deg = 0.038327973649240565\n",
      "UMRtools verison: v1.2\n"
     ]
    }
   ],
   "source": [
    "from generate import *\n",
    "import numpy as np\n",
    "from UMRtools import *\n",
    "import time"
   ]
  },
  {
   "cell_type": "code",
   "execution_count": 9,
   "metadata": {},
   "outputs": [],
   "source": [
    "#生成grating\n",
    "def Generate_Gratings(C,P,SF,D,frameRate,size):\n",
    "    '''\n",
    "    C:contrast,范围在[0,0.5]\n",
    "    P:#相位,范围[0,2pi)\n",
    "    SF:spatial frequency,建议范围在10到40之间\n",
    "    D:方向,范围[0,pi]\n",
    "    frameRate:帧率（一秒几帧，=1就是静止的,>1就是动的)\n",
    "    size:图片大小\n",
    "    '''\n",
    "    path=\"/home/zhaobenyan/model/data_save/gratings/\"\n",
    "    print(path)\n",
    "    mk_path(path)\n",
    "    generate_input(path,C,P,SF,D,frameRate,size)\n",
    "    # static_color-grid_1\n",
    "   "
   ]
  },
  {
   "cell_type": "code",
   "execution_count": 16,
   "metadata": {},
   "outputs": [
    {
     "name": "stdout",
     "output_type": "stream",
     "text": [
      "/home/zhaobenyan/model/data_save/gratings/\n",
      "32 pixels\n",
      "crest in sRGB: [ 1.5214511  -1.83242368  0.72781358]\n",
      "valley in sRGB: [-18.30753009   1.0386155    0.67997673]\n",
      "0.0045504840286657855 degree per pixel\n",
      "ecc = 0.034479770809412, buffer_ecc = 0.038327973649240565\n",
      "1\n",
      "adjusted to 1 frames in total\n",
      "sharpness=1.0\n",
      "sRGB space is not enough to represent the color\n",
      "(array([-18.30749836,  -1.8322707 ,   0.67997676]), array([1.52144137, 1.03861519, 0.72781314]))\n"
     ]
    },
    {
     "data": {
      "image/png": "[encoded data removed]",
      "text/plain": [
       "<Figure size 204.8x153.6 with 3 Axes>"
      ]
     },
     "metadata": {},
     "output_type": "display_data"
    }
   ],
   "source": [
    "C=np.array([0.45])\n",
    "P=np.array([0.5*np.pi])\n",
    "SF = np.arange(36,40,10)#36\n",
    "D = np.array([np.pi/6])  # 方向范围[0,pi]\n",
    "frameRate=1\n",
    "size=32\n",
    "Generate_Gratings(C,P,SF,D,frameRate,size)"
   ]
  },
  {
   "cell_type": "code",
   "execution_count": 19,
   "metadata": {},
   "outputs": [],
   "source": [
    "#运行代码并记录时间\n",
    "def Run_Our_Model(run_time=1):\n",
    "    '''\n",
    "    固定使用config文件为minimal.cfg\n",
    "    run_time:运行时间(s),默认为1s\n",
    "    log_on:是否打印一些中间值\n",
    "    '''\n",
    "    log_on=True\n",
    "    with open(f\"{SRC_DIR}/minimal.cfg\", 'r') as file:\n",
    "    # 读取文件的每一行，并用列表保存\n",
    "      lines = file.readlines()\n",
    "      for i in range(len(lines)):\n",
    "          if \"nt =\" in lines[i] and \"#nt =\" not in lines[i] and lines[i][0]=='n':\n",
    "              lines[i] = f\"nt ={int(8000*run_time)} \\n\"\n",
    "              if log_on:\n",
    "                  print(f\"changed {int(8000*run_time)}\") #LOGfStimulus = static_color-grid_test1.bin\n",
    "          if \"fStimulus =\" in lines[i] and \"#fStimulus =\" not in lines[i]:\n",
    "              lines[i] = f\"fStimulus = static_color-grid_1.bin \\n\"\n",
    "              if log_on:\n",
    "                  print(f\"changed static_color-grid_1.bin\")   \n",
    "      with open(f\"{SRC_DIR}/minimal.cfg\", 'w') as file:\n",
    "          # 将修改后的行重新写入到文件中\n",
    "          file.writelines(lines)\n",
    "    \n",
    "\n"
   ]
  },
  {
   "cell_type": "code",
   "execution_count": 20,
   "metadata": {},
   "outputs": [
    {
     "name": "stdout",
     "output_type": "stream",
     "text": [
      "changed static_color-grid_1.bin\n",
      "changed 8000\n"
     ]
    }
   ],
   "source": [
    "Run_Our_Model()"
   ]
  },
  {
   "cell_type": "code",
   "execution_count": null,
   "metadata": {},
   "outputs": [],
   "source": [
    "os.system(f'cd {PATCHFAST_DIR} && {BIN_DIR}patch_fast -c {SRC_DIR}minimal{3}.cfg > {model_log_path}{now_time_str()}.log')"
   ]
  },
  {
   "cell_type": "code",
   "execution_count": null,
   "metadata": {},
   "outputs": [],
   "source": []
  },
  {
   "cell_type": "code",
   "execution_count": null,
   "metadata": {},
   "outputs": [],
   "source": []
  },
  {
   "cell_type": "code",
   "execution_count": null,
   "metadata": {},
   "outputs": [],
   "source": []
  },
  {
   "cell_type": "code",
   "execution_count": null,
   "metadata": {},
   "outputs": [],
   "source": []
  }
 ],
 "metadata": {
  "kernelspec": {
   "display_name": "neuro",
   "language": "python",
   "name": "python3"
  },
  "language_info": {
   "codemirror_mode": {
    "name": "ipython",
    "version": 3
   },
   "file_extension": ".py",
   "mimetype": "text/x-python",
   "name": "python",
   "nbconvert_exporter": "python",
   "pygments_lexer": "ipython3",
   "version": "3.10.4"
  },
  "orig_nbformat": 4
 },
 "nbformat": 4,
 "nbformat_minor": 2
}
