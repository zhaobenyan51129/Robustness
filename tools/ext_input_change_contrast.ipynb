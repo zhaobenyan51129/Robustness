{
 "cells": [
  {
   "cell_type": "code",
   "execution_count": 1,
   "metadata": {},
   "outputs": [
    {
     "name": "stdout",
     "output_type": "stream",
     "text": [
      "lum in LMS = [0.45436904 0.47353315 0.0720978 ]\n",
      "[[1.31265115 0.37916654 0.17658182]\n",
      " [0.37916654 0.43588297 0.06613005]\n",
      " [0.17658182 0.06613005 1.03101131]]\n",
      "[[10.82668925 -2.48855249  0.0461736 ]\n",
      " [-2.48855249  1.38614356 -0.12768065]\n",
      " [ 0.0461736  -0.12768065  1.15767798]]\n"
     ]
    }
   ],
   "source": [
    "import matplotlib.pyplot as plt\n",
    "import matplotlib.gridspec as gs\n",
    "import numpy as np\n",
    "from grating import *\n",
    "from ext_signal import *\n",
    "from scipy.stats import qmc"
   ]
  },
  {
   "cell_type": "code",
   "execution_count": 2,
   "metadata": {},
   "outputs": [
    {
     "data": {
      "text/plain": [
       "0.01289575827657954"
      ]
     },
     "execution_count": 2,
     "metadata": {},
     "output_type": "execute_result"
    }
   ],
   "source": [
    "def acuity(ecc):\n",
    "    k = 0.2049795945022049\n",
    "    log_cpd0 = 3.6741080244555278\n",
    "    cpd = np.exp(-k*ecc + log_cpd0)\n",
    "    return 2/cpd/4\n",
    "\n",
    "acuity(0.08)"
   ]
  },
  {
   "cell_type": "code",
   "execution_count": 3,
   "metadata": {},
   "outputs": [
    {
     "name": "stdout",
     "output_type": "stream",
     "text": [
      "18.53509145317477\n"
     ]
    }
   ],
   "source": [
    "K_onC = 29.13289963\n",
    "K_onS = 23.17378917\n",
    "K_offC = 22.71914498\n",
    "K_offS = 12.53276353\n",
    "r_C = (acuity(0.095) + acuity(0))/2\n",
    "r_S = r_C*3\n",
    "cov = 0.53753\n",
    "def zeroCross(k1, k2, r1, r2):\n",
    "    return np.sqrt(np.log(k1/k2)/(r2*r2 - r1*r1))*r1*r2\n",
    "SF = 1.0/(zeroCross(K_offC, K_onS*cov, r_C, r_S)*2 + zeroCross(K_onC, K_offS*cov, r_C, r_S)*2)\n",
    "print(SF)"
   ]
  },
  {
   "cell_type": "code",
   "execution_count": 4,
   "metadata": {},
   "outputs": [
    {
     "name": "stdout",
     "output_type": "stream",
     "text": [
      "0.012775782312929865\n",
      "range_deg = 0.0344, buffer_deg = 0.05110312925171946\n"
     ]
    }
   ],
   "source": [
    "# color-drifting\n",
    "inputLMS = True\n",
    "range_deg = 0.0344#0.12672379774682216 # eccentricity from the origin\n",
    "print(acuity(range_deg))\n",
    "buffer_deg = acuity(range_deg)*4\n",
    "print(f'range_deg = {range_deg}, buffer_deg = {buffer_deg}')\n",
    "SF = 20\n",
    "TF = 8\n",
    "time = np.array([1/TF])\n",
    "neye = 1\n",
    "center = np.pi/2 \n",
    "wing = np.pi/2\n",
    "sharpness = 1"
   ]
  },
  {
   "cell_type": "markdown",
   "metadata": {},
   "source": [
    "# 上面的参数你都不需要改，从下面开始改"
   ]
  },
  {
   "cell_type": "code",
   "execution_count": 5,
   "metadata": {},
   "outputs": [
    {
     "name": "stdout",
     "output_type": "stream",
     "text": [
      "32 degree per pixel\n",
      "crest in sRGB: [0.91965815 0.66944248 0.70707138]\n",
      "valley in sRGB: [0.64848672 0.7627348  0.70176079]\n",
      "0.005343945578232466 degree per pixel\n",
      "ecc = 0.0344, buffer_ecc = 0.05110312925171946\n",
      "1\n",
      "adjusted to 1 frames in total\n",
      "sharpness=1.0\n",
      "it: 0\n",
      "32 degree per pixel\n",
      "crest in sRGB: [1.02220551 0.61576424 0.70970734]\n",
      "valley in sRGB: [0.42848606 0.80422963 0.69908582]\n",
      "0.005343945578232466 degree per pixel\n",
      "ecc = 0.0344, buffer_ecc = 0.05110312925171946\n",
      "1\n",
      "adjusted to 1 frames in total\n",
      "sharpness=1.0\n",
      "it: 0\n",
      "sRGB space is not enough to represent the color\n",
      "(array([0.42849847, 0.61576663, 0.69908594]), array([1.02220147, 0.80422794, 0.70970723]))\n",
      "32 degree per pixel\n",
      "crest in sRGB: [1.11263462 0.55527554 0.71233065]\n",
      "valley in sRGB: [-0.91308059  0.843093    0.69639751]\n",
      "0.005343945578232466 degree per pixel\n",
      "ecc = 0.0344, buffer_ecc = 0.05110312925171946\n",
      "1\n",
      "adjusted to 1 frames in total\n",
      "sharpness=1.0\n",
      "it: 0\n",
      "sRGB space is not enough to represent the color\n",
      "(array([-0.91289707,  0.55527964,  0.69639768]), array([1.11262921, 0.84309061, 0.71233049]))\n",
      "32 degree per pixel\n",
      "crest in sRGB: [1.1941885  0.48495152 0.71494147]\n",
      "valley in sRGB: [-3.81215551  0.87973388  0.69369566]\n",
      "0.005343945578232466 degree per pixel\n",
      "ecc = 0.0344, buffer_ecc = 0.05110312925171946\n",
      "1\n",
      "adjusted to 1 frames in total\n",
      "sharpness=1.0\n",
      "it: 0\n",
      "sRGB space is not enough to represent the color\n",
      "(array([-3.81191081,  0.48495801,  0.69369589]), array([1.19418193, 0.87973088, 0.71494125]))\n",
      "32 degree per pixel\n",
      "crest in sRGB: [1.26889592 0.39866562 0.71753994]\n",
      "valley in sRGB: [-6.71123042  0.91446678  0.69098009]\n",
      "0.005343945578232466 degree per pixel\n",
      "ecc = 0.0344, buffer_ecc = 0.05110312925171946\n",
      "1\n",
      "adjusted to 1 frames in total\n",
      "sharpness=1.0\n",
      "it: 0\n",
      "sRGB space is not enough to represent the color\n",
      "(array([-6.71092456,  0.39867596,  0.69098037]), array([1.26888835, 0.9144632 , 0.71753967]))\n",
      "32 degree per pixel\n",
      "crest in sRGB: [1.33812326 0.27949645 0.72012624]\n",
      "valley in sRGB: [-9.61030621  0.94753945  0.68825061]\n",
      "0.005343945578232466 degree per pixel\n",
      "ecc = 0.0344, buffer_ecc = 0.05110312925171946\n",
      "1\n",
      "adjusted to 1 frames in total\n",
      "sharpness=1.0\n",
      "it: 0\n",
      "sRGB space is not enough to represent the color\n",
      "(array([-9.60993917,  0.27951547,  0.68825095]), array([1.3381148 , 0.94753536, 0.72012591]))\n",
      "32 degree per pixel\n",
      "crest in sRGB: [ 1.40284111 -0.06391143  0.72270051]\n",
      "valley in sRGB: [-12.50938026   0.97915111   0.68550702]\n",
      "0.005343945578232466 degree per pixel\n",
      "ecc = 0.0344, buffer_ecc = 0.05110312925171946\n",
      "1\n",
      "adjusted to 1 frames in total\n",
      "sharpness=1.0\n",
      "it: 0\n",
      "sRGB space is not enough to represent the color\n",
      "(array([-12.50895205,  -0.06378082,   0.68550743]), array([1.40283184, 0.97914654, 0.72270013]))\n",
      "32 degree per pixel\n",
      "crest in sRGB: [ 1.46376761 -0.94816782  0.72526291]\n",
      "valley in sRGB: [-15.40845604   1.00946473   0.68274913]\n",
      "0.005343945578232466 degree per pixel\n",
      "ecc = 0.0344, buffer_ecc = 0.05110312925171946\n",
      "1\n",
      "adjusted to 1 frames in total\n",
      "sharpness=1.0\n",
      "it: 0\n",
      "sRGB space is not enough to represent the color\n",
      "(array([-15.40796666,  -0.94801856,   0.6827496 ]), array([1.46375762, 1.00945971, 0.72526248]))\n",
      "32 degree per pixel\n",
      "crest in sRGB: [ 1.5214511  -1.83242368  0.72781358]\n",
      "valley in sRGB: [-18.30753009   1.0386155    0.67997673]\n",
      "0.005343945578232466 degree per pixel\n",
      "ecc = 0.0344, buffer_ecc = 0.05110312925171946\n",
      "1\n",
      "adjusted to 1 frames in total\n",
      "sharpness=1.0\n",
      "it: 0\n",
      "sRGB space is not enough to represent the color\n",
      "(array([-18.30697954,  -1.83225577,   0.67997726]), array([1.52144042, 1.03861007, 0.7278131 ]))\n",
      "32 degree per pixel\n",
      "crest in sRGB: [ 1.57632134 -2.71668008  0.73035267]\n",
      "valley in sRGB: [-21.20660587   1.06671712   0.67718961]\n",
      "0.005343945578232466 degree per pixel\n",
      "ecc = 0.0344, buffer_ecc = 0.05110312925171946\n",
      "1\n",
      "adjusted to 1 frames in total\n",
      "sharpness=1.0\n",
      "it: 0\n",
      "sRGB space is not enough to represent the color\n",
      "(array([-21.20599415,  -2.7164935 ,   0.6771902 ]), array([1.57631003, 1.06671129, 0.73035213]))\n"
     ]
    }
   ],
   "source": [
    "path = '/home/zhaobenyan/data/resource_contrast32_new/' #地址,运行代码前先在终端创建文件夹\n",
    "# 大写的都是列表，贮存此参数所有可选值\n",
    "\n",
    "n = 1 # 给图片编号的序号\n",
    "C = np.arange(0.05,0.55,0.05) # contrast范围在[0,0.5]\n",
    "#C=np.array([0.35])\n",
    "\n",
    "# P = np.arange(0,2*np.pi,np.pi/6)\n",
    "#P = np.arange(0,1,1) #相位,范围[0,2pi),如果你只想研究contrast的话，别的参数最好固定统一\n",
    "P=np.array([np.pi])\n",
    "\n",
    "# SF = np.arange(,84,4)\n",
    "SF = np.arange(20,22,2) ##spatial frequency,建议范围在10到40之间\n",
    "\n",
    "#D = np.arange(0,np.pi,np.pi/12)\n",
    "D = np.array([np.pi/6])  # 方向范围[0,pi]\n",
    "\n",
    "C = C.astype('float32')\n",
    "P = P.astype('float32')\n",
    "SF = SF.astype('float32')\n",
    "D = D.astype('float32')\n",
    "\n",
    "for c in C:\n",
    "    for sf in SF:\n",
    "        for orient in D:\n",
    "            for phase in P:\n",
    "                crest = np.array([0.5+c, 0.5-c, 0.5]) #contrast和正弦光栅的波峰、波谷在LMS颜色空间的关系\n",
    "                valley = np.array([0.5-c, 0.5+c, 0.5])\n",
    "                video_fn = path + f'static_color-grid_{n}'\n",
    "                cfg_fn = path + f'static_color-grid_{n}_cfg' #XXXcfg.bin储存每张图的参数，可以关注一下这是怎么存的，要关注存的时候的变量类型，是f4还是u4，怎么存就怎么读，\n",
    "                f = open(cfg_fn+ '.bin', 'wb') # sf,d,p,c\n",
    "                np.array([sf]).astype('f4').tofile(f)\n",
    "                np.array([orient*180/np.pi]).astype('f4').tofile(f) #generate_grating需要弧度制，但是我参数保存的角度制\n",
    "                np.array([phase*180/np.pi]).astype('f4').tofile(f)\n",
    "                np.array([c]).astype('f4').tofile(f)\n",
    "                crest.astype('f4').tofile(f)\n",
    "                valley.astype('f4').tofile(f)\n",
    "                f.close()\n",
    "                generate_grating(1.0, sf, TF, orient, 32, crest, valley, video_fn, time, phase, sharpness, frameRate = 1, ecc = range_deg, buffer_ecc = buffer_deg, gtype='drifting', neye = neye, bar = False, center = center, wing = wing, mask = None, inputLMS = inputLMS,genMovie = True)\n",
    "                n = n+1\n"
   ]
  },
  {
   "cell_type": "markdown",
   "metadata": {},
   "source": [
    "# 读参数文件"
   ]
  },
  {
   "cell_type": "code",
   "execution_count": 5,
   "metadata": {},
   "outputs": [
    {
     "data": {
      "text/plain": [
       "(52.0,\n",
       " 90.0,\n",
       " 0.0,\n",
       " 0.3,\n",
       " array([0.8, 0.2, 0.5], dtype=float32),\n",
       " array([0.2, 0.8, 0.5], dtype=float32))"
      ]
     },
     "execution_count": 5,
     "metadata": {},
     "output_type": "execute_result"
    }
   ],
   "source": [
    "# cfg_fn = path + f'static_color-grid_{n}_cfg' #XXXcfg.bin储存每张图的参数，可以关注一下这是怎么存的，要关注存的时候的变量类型，是f4还是u4，怎么存就怎么读，\n",
    "# f = open(cfg_fn+ '.bin', 'wb') # sf,d,p,c\n",
    "# np.array([sf]).astype('f4').tofile(f)\n",
    "# np.array([orient*180/np.pi]).astype('f4').tofile(f)\n",
    "# np.array([phase*180/np.pi]).astype('f4').tofile(f)\n",
    "# np.array([c]).astype('f4').tofile(f)\n",
    "# crest.astype('f4').tofile(f)\n",
    "# valley.astype('f4').tofile(f)\n",
    "# f.close()\n",
    "\n",
    "#参考上面怎么写入的\n",
    "path='/home/zhaobenyan/data/resource_grid_benchmark_224pixel/'\n",
    "with open(path+'static_color-grid_1801_cfg.bin') as f: #可以去查查with是干嘛的，它是以防你忘记关掉文件，这种表达会比较好\n",
    "    sf = np.fromfile(f,'f4',1)[0] #为啥是np.fromfile（。。。）[0],因为用np命令的读出来是array，其实我们只是要他的元素\n",
    "    ori = np.fromfile(f,'f4',1)[0]\n",
    "    phase = np.fromfile(f,'f4',1)[0]\n",
    "    contrast = np.fromfile(f,'f4',1)[0] #我一般读取到contrast就停了\n",
    "    crest = np.fromfile(f,'f4',3) \n",
    "    valley = np.fromfile(f,'f4',3)\n",
    "sf,ori,phase,contrast,crest,valley"
   ]
  },
  {
   "cell_type": "code",
   "execution_count": 6,
   "metadata": {},
   "outputs": [
    {
     "name": "stdout",
     "output_type": "stream",
     "text": [
      "[[  4.           0.           0.           0.30000001]\n",
      " [  4.           0.          30.           0.30000001]\n",
      " [  4.           0.          60.           0.30000001]\n",
      " [  4.           0.          90.           0.30000001]\n",
      " [  4.           0.         120.           0.30000001]\n",
      " [  4.           0.         150.           0.30000001]\n",
      " [  4.           0.         180.           0.30000001]\n",
      " [  4.           0.         210.           0.30000001]\n",
      " [  4.           0.         240.           0.30000001]\n",
      " [  4.           0.         270.           0.30000001]]\n"
     ]
    }
   ],
   "source": [
    "#然后思考一下怎么把参数保存在一个矩阵里\n",
    "n = 10 #图片的数量\n",
    "cfg = np.zeros((n,4)) #每张图片4个参数\n",
    "for i in range(n):\n",
    "    with open(path+f'static_color-grid_{i+1}_cfg.bin') as f: #可以去查查with是干嘛的，它是以防你忘记关掉文件，这种表达会比较好\n",
    "        sf = np.fromfile(f,'f4',1)[0]\n",
    "        ori = np.fromfile(f,'f4',1)[0]\n",
    "        phase = np.fromfile(f,'f4',1)[0]\n",
    "        contrast = np.fromfile(f,'f4',1)[0] #我一般读取到contrast就停了\n",
    "    cfg[i][0] = sf\n",
    "    cfg[i][1] = ori\n",
    "    cfg[i][2] = phase\n",
    "    cfg[i][3] = contrast\n",
    "print(cfg)\n",
    "    "
   ]
  },
  {
   "cell_type": "code",
   "execution_count": null,
   "metadata": {},
   "outputs": [
    {
     "ename": "",
     "evalue": "",
     "output_type": "error",
     "traceback": [
      "\u001b[1;31mRunning cells with '/bin/python3' requires ipykernel package.\n",
      "\u001b[1;31mRun the following command to install 'ipykernel' into the Python environment. \n",
      "\u001b[1;31mCommand: '/bin/python3 -m pip install ipykernel -U --user --force-reinstall'"
     ]
    }
   ],
   "source": []
  }
 ],
 "metadata": {
  "kernelspec": {
   "display_name": "neuro",
   "language": "python",
   "name": "python3"
  },
  "language_info": {
   "codemirror_mode": {
    "name": "ipython",
    "version": 3
   },
   "file_extension": ".py",
   "mimetype": "text/x-python",
   "name": "python",
   "nbconvert_exporter": "python",
   "pygments_lexer": "ipython3",
   "version": "3.10.4 (main, Mar 31 2022, 08:41:55) [GCC 7.5.0]"
  },
  "vscode": {
   "interpreter": {
    "hash": "8b9c5593a17fba624379e9190bd6a6e8859574f8bd8d9fe0bedd91538d1381a6"
   }
  }
 },
 "nbformat": 4,
 "nbformat_minor": 4
}
