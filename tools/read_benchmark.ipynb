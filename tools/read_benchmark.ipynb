{
 "cells": [
  {
   "cell_type": "code",
   "execution_count": 1,
   "id": "ea32f64b-cbfc-47ec-b353-a1e5d5550a04",
   "metadata": {},
   "outputs": [],
   "source": [
    "import numpy as np\n",
    "\n",
    "with open('../data/benchmark_static_32pixel.bin') as f:\n",
    "    sampleSize = np.fromfile(f,'u4',1)[0]\n",
    "    sampleID = np.fromfile(f,'u4',sampleSize)\n",
    "    sample_nLGN_V1 = np.fromfile(f,'u4',sampleSize)        \n",
    "    max_fr_v1 = np.fromfile(f,'f4',sampleSize)        \n",
    "    fr_input_lgn = np.fromfile(f,'f4',sampleSize)        \n",
    "    max_ori = np.fromfile(f,'f4',sampleSize)        \n",
    "    max_sf = np.fromfile(f,'f4',sampleSize)        \n",
    "    gOSI = np.fromfile(f,'f4',sampleSize)  # ori tc 的指标  \n",
    "    zero_middle = np.nonzero(fr_input_lgn != 0)[0]\n",
    "    \n",
    "    #nozero=np.intersect1d(sampleID,zero_middle)\n",
    "    #diff=np.setdiff1d(sampleID,zero_middle,assume_unique=True)\n",
    "    \n",
    "        \n"
   ]
  },
  {
   "cell_type": "code",
   "execution_count": 2,
   "id": "b10244e0-9e0d-4345-8bd2-14fa46ed2651",
   "metadata": {},
   "outputs": [
    {
     "name": "stdout",
     "output_type": "stream",
     "text": [
      "sampleSize: 3840\n",
      "sampleID: [   0    1    2 ... 4861 4862 4863]\n",
      "sample_nLGN_V1: [7 0 1 ... 0 0 8]\n",
      "max_fr_v1: [58.6 14.6 51.  ...  9.2 15.6 29.8]\n",
      "fr_input_lgn: [0.32416058 0.         0.3173     ... 0.         0.         0.20261319]\n",
      "max_ori: [ 75.  90. 150. ...  60. 105.  75.]\n",
      "max_sf: [24. 20. 24. ... 24. 28. 32.]\n",
      "gOSI: [0.24303998 0.35851705 0.04133739 ... 0.07355721 0.14841524 0.35343644]\n",
      "zero_middle: [   0    2    4 ... 3835 3836 3839]\n"
     ]
    }
   ],
   "source": [
    "print('sampleSize:',sampleSize)\n",
    "print('sampleID:',sampleID)\n",
    "print('sample_nLGN_V1:',sample_nLGN_V1)\n",
    "print('max_fr_v1:',max_fr_v1)\n",
    "print('fr_input_lgn:',fr_input_lgn)\n",
    "print('max_ori:',max_ori)\n",
    "print('max_sf:',max_sf)\n",
    "print('gOSI:',gOSI)\n",
    "print('zero_middle:',zero_middle)\n",
    "#print('nozero:',nozero)\n",
    "#print('diff:',diff)\n",
    "#print(diff.shape)"
   ]
  },
  {
   "cell_type": "code",
   "execution_count": 3,
   "id": "0baeb475",
   "metadata": {},
   "outputs": [
    {
     "name": "stdout",
     "output_type": "stream",
     "text": [
      "sampleSize: ()\n",
      "sampleID: (3840,)\n",
      "sample_nLGN_V1: (3840,)\n",
      "max_fr: (3840,)\n",
      "max_input: (3840,)\n",
      "max_ori: (3840,)\n",
      "max_sf: (3840,)\n",
      "gOSI: (3840,)\n",
      "zero_middle: (3066,)\n"
     ]
    }
   ],
   "source": [
    "print('sampleSize:',sampleSize.shape)\n",
    "print('sampleID:',sampleID.shape)\n",
    "print('sample_nLGN_V1:',sample_nLGN_V1.shape)\n",
    "print('max_fr:',max_fr_v1.shape)\n",
    "print('max_input:',fr_input_lgn.shape)\n",
    "print('max_ori:',max_ori.shape)\n",
    "print('max_sf:',max_sf.shape)\n",
    "print('gOSI:',gOSI.shape)\n",
    "print('zero_middle:',zero_middle.shape)\n",
    "#print('nozero:',nozero.shape)"
   ]
  }
 ],
 "metadata": {
  "kernelspec": {
   "display_name": "neuro",
   "language": "python",
   "name": "python3"
  },
  "language_info": {
   "codemirror_mode": {
    "name": "ipython",
    "version": 3
   },
   "file_extension": ".py",
   "mimetype": "text/x-python",
   "name": "python",
   "nbconvert_exporter": "python",
   "pygments_lexer": "ipython3",
   "version": "3.10.4 (main, Mar 31 2022, 08:41:55) [GCC 7.5.0]"
  },
  "vscode": {
   "interpreter": {
    "hash": "8b9c5593a17fba624379e9190bd6a6e8859574f8bd8d9fe0bedd91538d1381a6"
   }
  }
 },
 "nbformat": 4,
 "nbformat_minor": 5
}
