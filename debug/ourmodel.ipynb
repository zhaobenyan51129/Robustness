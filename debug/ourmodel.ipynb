{
 "cells": [
  {
   "cell_type": "code",
   "execution_count": 1,
   "metadata": {},
   "outputs": [],
   "source": [
    "import numpy as np\n",
    "import matplotlib.pyplot as plt\n",
    "import os\n",
    "import time\n",
    "np.set_printoptions(threshold=np.inf)  #使输出数据完整显示\n",
    "\n",
    "src_dir='/home/zhaobenyan/repos/patchV1/src/'\n",
    "patchfast='/home/zhaobenyan/dataset/patchfast/'"
   ]
  },
  {
   "cell_type": "code",
   "execution_count": 2,
   "metadata": {},
   "outputs": [],
   "source": [
    "#将minimal.cfg中的替死鬼文件中的数据换成实验输入的，dir:grating所在地址 \n",
    "def replace(dir):\n",
    "    '''\n",
    "    dir:grating所在地址\n",
    "    '''\n",
    "    with open(dir) as f:\n",
    "        x_1 = np.fromfile(f, 'i4', 1)\n",
    "        x_2 = np.fromfile(f, 'i4', 3)\n",
    "        nFrame=x_2[0]\n",
    "        size=x_2[1]\n",
    "        x_3 = np.fromfile(f, 'f4', 3)\n",
    "        x_4 = np.fromfile(f, 'f4', 2)\n",
    "        x_5 = np.fromfile(f, 'u4', 1)\n",
    "        x_6 = np.fromfile(f, 'f4', nFrame*size*size*3)\n",
    "        #写文件,'wb'表示覆盖写文件 f1打开“替死鬼”文件地址\n",
    "        #f1读取的替死鬼文件的地址要修改,该文件必须放在/resource下面,与minimal.cfg文件里面fStimulus=一致\n",
    "        f1 = open('/home/zhaobenyan/dataset/resource/static_color-grid_{}.bin'.format(size), 'wb') \n",
    "        np.array(x_1).astype('i4').tofile(f1) \n",
    "        np.array((x_2[0],size,size), dtype='i4').tofile(f1)\n",
    "        x_3.astype('f4').tofile(f1) # init_luminance\n",
    "        np.array(x_4, dtype='f4').tofile(f1)\n",
    "        np.array(x_5).astype('u4').tofile(f1)\n",
    "        np.array(x_6).astype('f4').tofile(f1)\n",
    "        f1.close() #记得要关文件"
   ]
  },
  {
   "cell_type": "code",
   "execution_count": 3,
   "metadata": {},
   "outputs": [],
   "source": [
    "#运行minimalTC\n",
    "def minimalTC():\n",
    "   os.system(f'cd {src_dir} && ./minimalTC')\n",
    "def patch():\n",
    "   os.system(f'cd {patchfast} && patch_fast -c {src_dir}minimal.cfg') "
   ]
  },
  {
   "cell_type": "code",
   "execution_count": 2,
   "metadata": {},
   "outputs": [],
   "source": [
    "#读取fr\n",
    "def read_spike(file):\n",
    "    with open(file) as f:\n",
    "        sampleSize = np.fromfile(f, 'u4', 1)[0] #一共5120\n",
    "        sample_t0, sample_t1 = np.fromfile(f, 'f4', 2)#t0是开始时间，t1是结束时间，我一共跑了1s\n",
    "        nt = np.fromfile(f, 'u4', 1)[0]\n",
    "        nLGN = np.fromfile(f, 'u4', 1)[0]\n",
    "        LGN_spike_time = np.fromfile(f, 'u4', nLGN*nt)\n",
    "        sampleID = np.fromfile(f, 'u4', sampleSize)#id排序是顺序的\n",
    "        sample_spikeCount = np.fromfile(f, 'u4', sampleSize)\n",
    "        fr = sample_spikeCount/(sample_t1-sample_t0)*1000\n",
    "    LGN_spike_time = LGN_spike_time.reshape((nt,nLGN)).T\n",
    "    return LGN_spike_time,fr\n"
   ]
  },
  {
   "cell_type": "code",
   "execution_count": 3,
   "metadata": {},
   "outputs": [],
   "source": [
    "#读取grating的数据  file:文件路径 static_color-grid_{}.bin类型的文件\n",
    "def read_grating_bin(file):\n",
    "    with open(file) as f:\n",
    "        x_1 = np.fromfile(f, 'i4', 1)\n",
    "        x_2 = np.fromfile(f, 'i4', 3)\n",
    "        nFrame=x_2[0]\n",
    "        size=x_2[1]\n",
    "        x_3 = np.fromfile(f, 'f4', 3)\n",
    "        x_4 = np.fromfile(f, 'f4', 2)\n",
    "        x_5 = np.fromfile(f, 'u4', 1)\n",
    "        x_6 = np.fromfile(f, 'f4', nFrame*size*size*3)\n",
    "    #return nFrame,size\n",
    "    return x_1,x_2,x_3,x_4,x_5,x_6"
   ]
  },
  {
   "cell_type": "code",
   "execution_count": 4,
   "metadata": {},
   "outputs": [],
   "source": [
    "#实验测试 file:输入图片\n",
    "def experiment(file):\n",
    "    replace(file)\n",
    "    minimalTC()\n",
    "    # patch()"
   ]
  },
  {
   "cell_type": "code",
   "execution_count": 5,
   "metadata": {},
   "outputs": [],
   "source": [
    "#读取grating的数据  file:文件路径 static_color-grid_{}_cfg.bin类型的文件\n",
    "def read_grating_cfg(file):\n",
    "    with open(file) as f: #可以去查查with是干嘛的，它是以防你忘记关掉文件，这种表达会比较好\n",
    "        sf = np.fromfile(f,'f4',1)[0] #为啥是np.fromfile（。。。）[0],因为用np命令的读出来是array，其实我们只是要他的元素\n",
    "        ori = np.fromfile(f,'f4',1)[0] \n",
    "        phase = np.fromfile(f,'f4',1)[0]\n",
    "        contrast = np.fromfile(f,'f4',1)[0] #一般读取到contrast就停了\n",
    "        #crest = np.fromfile(f,'f4',3)  #波峰\n",
    "        #valley = np.fromfile(f,'f4',3) #波谷\n",
    "    return sf, ori, phase, contrast"
   ]
  },
  {
   "cell_type": "code",
   "execution_count": 8,
   "metadata": {},
   "outputs": [
    {
     "name": "stdout",
     "output_type": "stream",
     "text": [
      "repeat_test\n",
      "overwrite contents in /home/zhaobenyan/dataset/repeat_test\n",
      "configuration files copied\n",
      "one_ori=1\n",
      "plotting files copied\n"
     ]
    }
   ],
   "source": [
    "file='/home/zhaobenyan/dataset/grating/grating_32x32_frameRate1_phase=pi/static_color-grid_8.bin'\n",
    "experiment(file)"
   ]
  },
  {
   "cell_type": "code",
   "execution_count": 17,
   "metadata": {},
   "outputs": [
    {
     "name": "stdout",
     "output_type": "stream",
     "text": [
      "24.0 30.0 180.0 0.15\n"
     ]
    }
   ],
   "source": [
    "sf, ori, phase, contrast=read_grating_cfg('/home/zhaobenyan/dataset/grating/grating_32x32_frameRate1_phase=pi/static_color-grid_3_cfg.bin')\n",
    "print(sf, ori, phase,contrast)"
   ]
  },
  {
   "cell_type": "code",
   "execution_count": 18,
   "metadata": {},
   "outputs": [
    {
     "name": "stdout",
     "output_type": "stream",
     "text": [
      "(3072,)\n"
     ]
    }
   ],
   "source": [
    "x_1,x_2,x_3,x_4,x_5,x_6=read_grating_bin('/home/zhaobenyan/dataset/grating/grating_32x32_frameRate1_phase=pi/static_color-grid_3.bin')\n",
    "print(x_6.shape)"
   ]
  },
  {
   "cell_type": "code",
   "execution_count": 19,
   "metadata": {},
   "outputs": [],
   "source": [
    "x=x_6#[:2048]"
   ]
  },
  {
   "cell_type": "code",
   "execution_count": 20,
   "metadata": {},
   "outputs": [
    {
     "name": "stdout",
     "output_type": "stream",
     "text": [
      "0.29999995\n"
     ]
    }
   ],
   "source": [
    "c=(np.max(x)-np.mean(x))/np.mean(x)\n",
    "print(c)"
   ]
  },
  {
   "cell_type": "code",
   "execution_count": 10,
   "metadata": {},
   "outputs": [
    {
     "data": {
      "text/plain": [
       "(array([1.757e+03, 5.000e+02, 2.500e+02, 2.070e+02, 1.450e+02, 1.210e+02,\n",
       "        1.010e+02, 8.300e+01, 6.800e+01, 7.900e+01, 6.500e+01, 6.300e+01,\n",
       "        4.500e+01, 3.800e+01, 3.900e+01, 3.500e+01, 2.400e+01, 1.900e+01,\n",
       "        2.500e+01, 1.900e+01, 1.900e+01, 1.800e+01, 1.500e+01, 1.100e+01,\n",
       "        8.000e+00, 5.000e+00, 9.000e+00, 6.000e+00, 6.000e+00, 7.000e+00,\n",
       "        3.000e+00, 7.000e+00, 1.000e+00, 2.000e+00, 0.000e+00, 3.000e+00,\n",
       "        2.000e+00, 3.000e+00, 2.000e+00, 1.000e+00, 2.000e+00, 1.000e+00,\n",
       "        2.000e+00, 1.000e+00, 0.000e+00, 1.000e+00, 5.000e+00, 3.000e+00,\n",
       "        1.000e+00]),\n",
       " array([ 0,  1,  2,  3,  4,  5,  6,  7,  8,  9, 10, 11, 12, 13, 14, 15, 16,\n",
       "        17, 18, 19, 20, 21, 22, 23, 24, 25, 26, 27, 28, 29, 30, 31, 32, 33,\n",
       "        34, 35, 36, 37, 38, 39, 40, 41, 42, 43, 44, 45, 46, 47, 48, 49]),\n",
       " <BarContainer object of 49 artists>)"
      ]
     },
     "execution_count": 10,
     "metadata": {},
     "output_type": "execute_result"
    },
    {
     "data": {
      "image/png": "[encoded data removed]",
      "text/plain": [
       "<Figure size 640x480 with 1 Axes>"
      ]
     },
     "metadata": {},
     "output_type": "display_data"
    }
   ],
   "source": [
    "LGN_spike_time,fr=read_spike('/home/zhaobenyan/dataset/patchfast/sample_spikeCount_test_1.bin')\n",
    "plt.hist(fr,bins=np.arange(0,50,1),rwidth=0.7)"
   ]
  },
  {
   "cell_type": "code",
   "execution_count": 14,
   "metadata": {},
   "outputs": [
    {
     "name": "stdout",
     "output_type": "stream",
     "text": [
      "(512, 16000)\n",
      "16000\n",
      "[1 2 3 4]\n",
      "[7910110, 281890]\n"
     ]
    }
   ],
   "source": [
    "#lgn=np.array(LGN_spike_time)\n",
    "lgn=LGN_spike_time\n",
    "print(lgn.shape)\n",
    "print(len(lgn[0]))\n",
    "ar,num=np.unique(lgn,return_counts=True)\n",
    "# #print(LGN_spike_time[0])\n",
    "print(ar[1:])\n",
    "print([num[0],np.sum(num[1:])])"
   ]
  },
  {
   "cell_type": "code",
   "execution_count": 15,
   "metadata": {},
   "outputs": [
    {
     "data": {
      "image/png": "[encoded data removed]",
      "text/plain": [
       "<Figure size 640x480 with 1 Axes>"
      ]
     },
     "metadata": {},
     "output_type": "display_data"
    }
   ],
   "source": [
    "# Pie chart, where the slices will be ordered and plotted counter-clockwise:\n",
    "#labels = '0', '1', '2', '3','4'\n",
    "explode = (0, 0.1)  # only \"explode\" the 1st slice (i.e. '0')\n",
    "numbers=[num[0],np.sum(num[1:])]\n",
    "labels=['zero','nonzero']\n",
    "fig1, ax1 = plt.subplots()\n",
    "ax1.pie(numbers, labels=labels,explode=explode, autopct='%1.1f%%',\n",
    "        shadow=True, startangle=90)\n",
    "ax1.axis('equal')  # Equal aspect ratio ensures that pie is drawn as a circle.\n",
    "plt.savefig('lgn_spike.jpg')\n",
    "plt.show()"
   ]
  },
  {
   "cell_type": "code",
   "execution_count": 2,
   "metadata": {},
   "outputs": [],
   "source": [
    "#读取输出\n",
    "def read_output(file_name):\n",
    "    output=os.path.basename(file_name).split('.')[0].split('_')[0] #fr or lgn\n",
    "    if output=='fr':\n",
    "        with np.load(file_name) as f:\n",
    "            fr=f['fr']\n",
    "        return fr\n",
    "    else :#output=='lgn'\n",
    "        with np.load(file_name) as f:\n",
    "            lgn=f['lgn']\n",
    "        return lgn"
   ]
  },
  {
   "cell_type": "code",
   "execution_count": 13,
   "metadata": {},
   "outputs": [],
   "source": [
    "fr=read_output('/home/zhaobenyan/dataset/output/grating_32x32/contrast10/fr_time5.npz')"
   ]
  },
  {
   "cell_type": "code",
   "execution_count": 14,
   "metadata": {},
   "outputs": [
    {
     "name": "stdout",
     "output_type": "stream",
     "text": [
      "(10, 3840)\n"
     ]
    }
   ],
   "source": [
    "print(np.array(fr).shape)"
   ]
  },
  {
   "cell_type": "code",
   "execution_count": 15,
   "metadata": {},
   "outputs": [
    {
     "data": {
      "text/plain": [
       "(array([543.,  95.,  68.,  63.,  65.,  68.,  70.,  80.,  76.,  94.,  74.,\n",
       "         90., 104., 110.,  95., 135., 120., 121., 109., 140., 131., 119.,\n",
       "        117., 136., 102., 111.,  87.,  98.,  98.,  88.,  71.,  55.,  51.,\n",
       "         53.,  40.,  27.,  30.,  26.,  25.,  13.,   8.,  10.,   6.,   8.,\n",
       "          2.,   2.,   3.,   0.,   2.]),\n",
       " array([ 0,  1,  2,  3,  4,  5,  6,  7,  8,  9, 10, 11, 12, 13, 14, 15, 16,\n",
       "        17, 18, 19, 20, 21, 22, 23, 24, 25, 26, 27, 28, 29, 30, 31, 32, 33,\n",
       "        34, 35, 36, 37, 38, 39, 40, 41, 42, 43, 44, 45, 46, 47, 48, 49]),\n",
       " <BarContainer object of 49 artists>)"
      ]
     },
     "execution_count": 15,
     "metadata": {},
     "output_type": "execute_result"
    },
    {
     "data": {
      "image/png": "[encoded data removed]",
      "text/plain": [
       "<Figure size 640x480 with 1 Axes>"
      ]
     },
     "metadata": {},
     "output_type": "display_data"
    }
   ],
   "source": [
    "plt.hist(fr[0],bins=np.arange(0,50,1),rwidth=0.7)"
   ]
  }
 ],
 "metadata": {
  "kernelspec": {
   "display_name": "neuro",
   "language": "python",
   "name": "python3"
  },
  "language_info": {
   "codemirror_mode": {
    "name": "ipython",
    "version": 3
   },
   "file_extension": ".py",
   "mimetype": "text/x-python",
   "name": "python",
   "nbconvert_exporter": "python",
   "pygments_lexer": "ipython3",
   "version": "3.10.4"
  },
  "orig_nbformat": 4,
  "vscode": {
   "interpreter": {
    "hash": "8b9c5593a17fba624379e9190bd6a6e8859574f8bd8d9fe0bedd91538d1381a6"
   }
  }
 },
 "nbformat": 4,
 "nbformat_minor": 2
}
