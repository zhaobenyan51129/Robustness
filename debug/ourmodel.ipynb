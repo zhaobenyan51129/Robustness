{
 "cells": [
  {
   "cell_type": "code",
   "execution_count": 2,
   "metadata": {},
   "outputs": [],
   "source": [
    "import numpy as np\n",
    "import matplotlib.pyplot as plt\n",
    "import os\n",
    "import time\n",
    "np.set_printoptions(threshold=np.inf)  #使输出数据完整显示\n",
    "\n",
    "src_dir='/home/zhaobenyan/repos/patchV1/src/'\n",
    "patchfast='/home/zhaobenyan/dataset/patchfast/'"
   ]
  },
  {
   "cell_type": "code",
   "execution_count": 3,
   "metadata": {},
   "outputs": [],
   "source": [
    "#将minimal.cfg中的替死鬼文件中的数据换成实验输入的，dir:grating所在地址 \n",
    "def replace(dir):\n",
    "    with open(dir) as f:\n",
    "        x_1 = np.fromfile(f, 'i4', 1)\n",
    "        x_2 = np.fromfile(f, 'i4', 3)\n",
    "        nFrame=x_2[0]\n",
    "        size=x_2[1]\n",
    "        x_3 = np.fromfile(f, 'f4', 3)\n",
    "        x_4 = np.fromfile(f, 'f4', 2)\n",
    "        x_5 = np.fromfile(f, 'u4', 1)\n",
    "        x_6 = np.fromfile(f, 'f4', nFrame*size*size*3)\n",
    "        #写文件,'wb'表示覆盖写文件 f1打开“替死鬼”文件地址\n",
    "        f1 = open('/home/zhaobenyan/dataset/resource/static_color-grid_0.bin', 'wb') \n",
    "        np.array(x_1).astype('i4').tofile(f1) \n",
    "        np.array((x_2[0],size,size), dtype='i4').tofile(f1)\n",
    "        x_3.astype('f4').tofile(f1) # init_luminance\n",
    "        np.array(x_4, dtype='f4').tofile(f1)\n",
    "        np.array(x_5).astype('u4').tofile(f1)\n",
    "        np.array(x_6).astype('f4').tofile(f1)\n",
    "        f1.close() #记得要关文件"
   ]
  },
  {
   "cell_type": "code",
   "execution_count": 4,
   "metadata": {},
   "outputs": [],
   "source": [
    "#运行minimalTC\n",
    "def minimalTC():\n",
    "   os.system(f'cd {src_dir} && ./minimalTC')"
   ]
  },
  {
   "cell_type": "code",
   "execution_count": 5,
   "metadata": {},
   "outputs": [],
   "source": [
    "#读取fr\n",
    "def read_spike(file):\n",
    "    with open(file) as f:\n",
    "        sampleSize = np.fromfile(f, 'u4', 1)[0] #一共5120\n",
    "        sample_t0, sample_t1 = np.fromfile(f, 'f4', 2)#t0是开始时间，t1是结束时间，我一共跑了1s\n",
    "        nt = np.fromfile(f, 'u4', 1)[0]\n",
    "        nLGN = np.fromfile(f, 'u4', 1)[0]\n",
    "        LGN_spike_time = np.fromfile(f, 'u4', nLGN*nt)\n",
    "        sampleID = np.fromfile(f, 'u4', sampleSize)#id排序是顺序的\n",
    "        sample_spikeCount = np.fromfile(f, 'u4', sampleSize)\n",
    "        fr = sample_spikeCount/(sample_t1-sample_t0)*1000\n",
    "    LGN_spike_time = LGN_spike_time.reshape((nt,nLGN)).T\n",
    "    return sampleID,fr\n"
   ]
  },
  {
   "cell_type": "code",
   "execution_count": 6,
   "metadata": {},
   "outputs": [],
   "source": [
    "#实验测试 file:输入图片\n",
    "def experiment(file):\n",
    "    replace(file)\n",
    "    minimalTC()"
   ]
  },
  {
   "cell_type": "code",
   "execution_count": 7,
   "metadata": {},
   "outputs": [
    {
     "name": "stdout",
     "output_type": "stream",
     "text": [
      "repeat_test\n",
      "overwrite contents in /home/zhaobenyan/dataset/repeat_test\n",
      "configuration files copied\n",
      "one_ori=1\n",
      "plotting files copied\n"
     ]
    }
   ],
   "source": [
    "\n",
    "file='/home/zhaobenyan/dataset/grating/grating_16x16_frameRate1/static_color-grid_10.bin'\n",
    "experiment(file)"
   ]
  },
  {
   "cell_type": "code",
   "execution_count": 8,
   "metadata": {},
   "outputs": [
    {
     "data": {
      "text/plain": [
       "(array([1602.,  510.,  294.,  189.,  159.,  142.,  109.,   83.,   74.,\n",
       "          77.,   52.,   75.,   44.,   48.,   44.,   39.,   35.,   40.,\n",
       "          23.,   18.,   15.,   20.,   10.,   10.,   14.,   10.,   14.,\n",
       "           7.,    5.,    8.,    3.,    3.,    2.,    4.,    3.,    3.,\n",
       "           5.,    3.,    5.,    3.,    2.,    2.,    3.,    0.,    4.,\n",
       "           2.,    2.,    2.,    0.]),\n",
       " array([ 0,  1,  2,  3,  4,  5,  6,  7,  8,  9, 10, 11, 12, 13, 14, 15, 16,\n",
       "        17, 18, 19, 20, 21, 22, 23, 24, 25, 26, 27, 28, 29, 30, 31, 32, 33,\n",
       "        34, 35, 36, 37, 38, 39, 40, 41, 42, 43, 44, 45, 46, 47, 48, 49]),\n",
       " <BarContainer object of 49 artists>)"
      ]
     },
     "execution_count": 8,
     "metadata": {},
     "output_type": "execute_result"
    },
    {
     "data": {
      "image/png": "[encoded data removed]",
      "text/plain": [
       "<Figure size 640x480 with 1 Axes>"
      ]
     },
     "metadata": {},
     "output_type": "display_data"
    }
   ],
   "source": [
    "_,fr=read_spike('/home/zhaobenyan/dataset/patchfast/sample_spikeCount_test_1.bin')\n",
    "plt.hist(fr,bins=np.arange(0,50,1),rwidth=0.7)"
   ]
  }
 ],
 "metadata": {
  "kernelspec": {
   "display_name": "neuro",
   "language": "python",
   "name": "python3"
  },
  "language_info": {
   "codemirror_mode": {
    "name": "ipython",
    "version": 3
   },
   "file_extension": ".py",
   "mimetype": "text/x-python",
   "name": "python",
   "nbconvert_exporter": "python",
   "pygments_lexer": "ipython3",
   "version": "3.10.4"
  },
  "orig_nbformat": 4,
  "vscode": {
   "interpreter": {
    "hash": "8b9c5593a17fba624379e9190bd6a6e8859574f8bd8d9fe0bedd91538d1381a6"
   }
  }
 },
 "nbformat": 4,
 "nbformat_minor": 2
}
